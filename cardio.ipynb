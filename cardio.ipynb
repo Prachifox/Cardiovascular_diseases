{
 "cells": [
  {
   "cell_type": "code",
   "execution_count": 81,
   "metadata": {
    "colab": {
     "base_uri": "https://localhost:8080/",
     "height": 195
    },
    "colab_type": "code",
    "id": "HGPV5dGC1xA5",
    "outputId": "dc5436b7-834b-4d99-d84e-b5cbe01bb2f2"
   },
   "outputs": [
    {
     "data": {
      "text/html": [
       "<div>\n",
       "<style scoped>\n",
       "    .dataframe tbody tr th:only-of-type {\n",
       "        vertical-align: middle;\n",
       "    }\n",
       "\n",
       "    .dataframe tbody tr th {\n",
       "        vertical-align: top;\n",
       "    }\n",
       "\n",
       "    .dataframe thead th {\n",
       "        text-align: right;\n",
       "    }\n",
       "</style>\n",
       "<table border=\"1\" class=\"dataframe\">\n",
       "  <thead>\n",
       "    <tr style=\"text-align: right;\">\n",
       "      <th></th>\n",
       "      <th>id</th>\n",
       "      <th>age</th>\n",
       "      <th>gender</th>\n",
       "      <th>height</th>\n",
       "      <th>weight</th>\n",
       "      <th>ap_hi</th>\n",
       "      <th>ap_lo</th>\n",
       "      <th>cholesterol</th>\n",
       "      <th>gluc</th>\n",
       "      <th>smoke</th>\n",
       "      <th>alco</th>\n",
       "      <th>active</th>\n",
       "      <th>cardio</th>\n",
       "    </tr>\n",
       "  </thead>\n",
       "  <tbody>\n",
       "    <tr>\n",
       "      <th>0</th>\n",
       "      <td>0</td>\n",
       "      <td>18393</td>\n",
       "      <td>2</td>\n",
       "      <td>168</td>\n",
       "      <td>62.0</td>\n",
       "      <td>110</td>\n",
       "      <td>80</td>\n",
       "      <td>1</td>\n",
       "      <td>1</td>\n",
       "      <td>0</td>\n",
       "      <td>0</td>\n",
       "      <td>1</td>\n",
       "      <td>0</td>\n",
       "    </tr>\n",
       "    <tr>\n",
       "      <th>1</th>\n",
       "      <td>1</td>\n",
       "      <td>20228</td>\n",
       "      <td>1</td>\n",
       "      <td>156</td>\n",
       "      <td>85.0</td>\n",
       "      <td>140</td>\n",
       "      <td>90</td>\n",
       "      <td>3</td>\n",
       "      <td>1</td>\n",
       "      <td>0</td>\n",
       "      <td>0</td>\n",
       "      <td>1</td>\n",
       "      <td>1</td>\n",
       "    </tr>\n",
       "    <tr>\n",
       "      <th>2</th>\n",
       "      <td>2</td>\n",
       "      <td>18857</td>\n",
       "      <td>1</td>\n",
       "      <td>165</td>\n",
       "      <td>64.0</td>\n",
       "      <td>130</td>\n",
       "      <td>70</td>\n",
       "      <td>3</td>\n",
       "      <td>1</td>\n",
       "      <td>0</td>\n",
       "      <td>0</td>\n",
       "      <td>0</td>\n",
       "      <td>1</td>\n",
       "    </tr>\n",
       "    <tr>\n",
       "      <th>3</th>\n",
       "      <td>3</td>\n",
       "      <td>17623</td>\n",
       "      <td>2</td>\n",
       "      <td>169</td>\n",
       "      <td>82.0</td>\n",
       "      <td>150</td>\n",
       "      <td>100</td>\n",
       "      <td>1</td>\n",
       "      <td>1</td>\n",
       "      <td>0</td>\n",
       "      <td>0</td>\n",
       "      <td>1</td>\n",
       "      <td>1</td>\n",
       "    </tr>\n",
       "    <tr>\n",
       "      <th>4</th>\n",
       "      <td>4</td>\n",
       "      <td>17474</td>\n",
       "      <td>1</td>\n",
       "      <td>156</td>\n",
       "      <td>56.0</td>\n",
       "      <td>100</td>\n",
       "      <td>60</td>\n",
       "      <td>1</td>\n",
       "      <td>1</td>\n",
       "      <td>0</td>\n",
       "      <td>0</td>\n",
       "      <td>0</td>\n",
       "      <td>0</td>\n",
       "    </tr>\n",
       "  </tbody>\n",
       "</table>\n",
       "</div>"
      ],
      "text/plain": [
       "   id    age  gender  height  weight  ap_hi  ap_lo  cholesterol  gluc  smoke  \\\n",
       "0   0  18393       2     168    62.0    110     80            1     1      0   \n",
       "1   1  20228       1     156    85.0    140     90            3     1      0   \n",
       "2   2  18857       1     165    64.0    130     70            3     1      0   \n",
       "3   3  17623       2     169    82.0    150    100            1     1      0   \n",
       "4   4  17474       1     156    56.0    100     60            1     1      0   \n",
       "\n",
       "   alco  active  cardio  \n",
       "0     0       1       0  \n",
       "1     0       1       1  \n",
       "2     0       0       1  \n",
       "3     0       1       1  \n",
       "4     0       0       0  "
      ]
     },
     "execution_count": 81,
     "metadata": {
      "tags": []
     },
     "output_type": "execute_result"
    }
   ],
   "source": [
    "import pandas as pd  \n",
    "#loading dataset\n",
    "url='https://raw.githubusercontent.com/Prachifox/Cardiovascular_diseases/master/cardio_train.csv'\n",
    "df= pd.read_csv(url,sep=';')\n",
    "df.head()"
   ]
  },
  {
   "cell_type": "code",
   "execution_count": 82,
   "metadata": {
    "colab": {
     "base_uri": "https://localhost:8080/",
     "height": 334
    },
    "colab_type": "code",
    "id": "ae50_kTb2NiU",
    "outputId": "f6f3c7a2-4a08-4105-d4cb-4af9f1acc8fb"
   },
   "outputs": [
    {
     "name": "stdout",
     "output_type": "stream",
     "text": [
      "<class 'pandas.core.frame.DataFrame'>\n",
      "RangeIndex: 70000 entries, 0 to 69999\n",
      "Data columns (total 13 columns):\n",
      "id             70000 non-null int64\n",
      "age            70000 non-null int64\n",
      "gender         70000 non-null int64\n",
      "height         70000 non-null int64\n",
      "weight         70000 non-null float64\n",
      "ap_hi          70000 non-null int64\n",
      "ap_lo          70000 non-null int64\n",
      "cholesterol    70000 non-null int64\n",
      "gluc           70000 non-null int64\n",
      "smoke          70000 non-null int64\n",
      "alco           70000 non-null int64\n",
      "active         70000 non-null int64\n",
      "cardio         70000 non-null int64\n",
      "dtypes: float64(1), int64(12)\n",
      "memory usage: 6.9 MB\n"
     ]
    }
   ],
   "source": [
    "df.info()"
   ]
  },
  {
   "cell_type": "code",
   "execution_count": 83,
   "metadata": {
    "colab": {
     "base_uri": "https://localhost:8080/",
     "height": 304
    },
    "colab_type": "code",
    "id": "dmO1964X2R2Z",
    "outputId": "a03152fa-6366-4ea3-f6a7-16ae9bc12e50"
   },
   "outputs": [
    {
     "data": {
      "text/html": [
       "<div>\n",
       "<style scoped>\n",
       "    .dataframe tbody tr th:only-of-type {\n",
       "        vertical-align: middle;\n",
       "    }\n",
       "\n",
       "    .dataframe tbody tr th {\n",
       "        vertical-align: top;\n",
       "    }\n",
       "\n",
       "    .dataframe thead th {\n",
       "        text-align: right;\n",
       "    }\n",
       "</style>\n",
       "<table border=\"1\" class=\"dataframe\">\n",
       "  <thead>\n",
       "    <tr style=\"text-align: right;\">\n",
       "      <th></th>\n",
       "      <th>id</th>\n",
       "      <th>age</th>\n",
       "      <th>gender</th>\n",
       "      <th>height</th>\n",
       "      <th>weight</th>\n",
       "      <th>ap_hi</th>\n",
       "      <th>ap_lo</th>\n",
       "      <th>cholesterol</th>\n",
       "      <th>gluc</th>\n",
       "      <th>smoke</th>\n",
       "      <th>alco</th>\n",
       "      <th>active</th>\n",
       "      <th>cardio</th>\n",
       "    </tr>\n",
       "  </thead>\n",
       "  <tbody>\n",
       "    <tr>\n",
       "      <th>count</th>\n",
       "      <td>70000.000000</td>\n",
       "      <td>70000.000000</td>\n",
       "      <td>70000.000000</td>\n",
       "      <td>70000.000000</td>\n",
       "      <td>70000.000000</td>\n",
       "      <td>70000.000000</td>\n",
       "      <td>70000.000000</td>\n",
       "      <td>70000.000000</td>\n",
       "      <td>70000.000000</td>\n",
       "      <td>70000.000000</td>\n",
       "      <td>70000.000000</td>\n",
       "      <td>70000.000000</td>\n",
       "      <td>70000.000000</td>\n",
       "    </tr>\n",
       "    <tr>\n",
       "      <th>mean</th>\n",
       "      <td>49972.419900</td>\n",
       "      <td>19468.865814</td>\n",
       "      <td>1.349571</td>\n",
       "      <td>164.359229</td>\n",
       "      <td>74.205690</td>\n",
       "      <td>128.817286</td>\n",
       "      <td>96.630414</td>\n",
       "      <td>1.366871</td>\n",
       "      <td>1.226457</td>\n",
       "      <td>0.088129</td>\n",
       "      <td>0.053771</td>\n",
       "      <td>0.803729</td>\n",
       "      <td>0.499700</td>\n",
       "    </tr>\n",
       "    <tr>\n",
       "      <th>std</th>\n",
       "      <td>28851.302323</td>\n",
       "      <td>2467.251667</td>\n",
       "      <td>0.476838</td>\n",
       "      <td>8.210126</td>\n",
       "      <td>14.395757</td>\n",
       "      <td>154.011419</td>\n",
       "      <td>188.472530</td>\n",
       "      <td>0.680250</td>\n",
       "      <td>0.572270</td>\n",
       "      <td>0.283484</td>\n",
       "      <td>0.225568</td>\n",
       "      <td>0.397179</td>\n",
       "      <td>0.500003</td>\n",
       "    </tr>\n",
       "    <tr>\n",
       "      <th>min</th>\n",
       "      <td>0.000000</td>\n",
       "      <td>10798.000000</td>\n",
       "      <td>1.000000</td>\n",
       "      <td>55.000000</td>\n",
       "      <td>10.000000</td>\n",
       "      <td>-150.000000</td>\n",
       "      <td>-70.000000</td>\n",
       "      <td>1.000000</td>\n",
       "      <td>1.000000</td>\n",
       "      <td>0.000000</td>\n",
       "      <td>0.000000</td>\n",
       "      <td>0.000000</td>\n",
       "      <td>0.000000</td>\n",
       "    </tr>\n",
       "    <tr>\n",
       "      <th>25%</th>\n",
       "      <td>25006.750000</td>\n",
       "      <td>17664.000000</td>\n",
       "      <td>1.000000</td>\n",
       "      <td>159.000000</td>\n",
       "      <td>65.000000</td>\n",
       "      <td>120.000000</td>\n",
       "      <td>80.000000</td>\n",
       "      <td>1.000000</td>\n",
       "      <td>1.000000</td>\n",
       "      <td>0.000000</td>\n",
       "      <td>0.000000</td>\n",
       "      <td>1.000000</td>\n",
       "      <td>0.000000</td>\n",
       "    </tr>\n",
       "    <tr>\n",
       "      <th>50%</th>\n",
       "      <td>50001.500000</td>\n",
       "      <td>19703.000000</td>\n",
       "      <td>1.000000</td>\n",
       "      <td>165.000000</td>\n",
       "      <td>72.000000</td>\n",
       "      <td>120.000000</td>\n",
       "      <td>80.000000</td>\n",
       "      <td>1.000000</td>\n",
       "      <td>1.000000</td>\n",
       "      <td>0.000000</td>\n",
       "      <td>0.000000</td>\n",
       "      <td>1.000000</td>\n",
       "      <td>0.000000</td>\n",
       "    </tr>\n",
       "    <tr>\n",
       "      <th>75%</th>\n",
       "      <td>74889.250000</td>\n",
       "      <td>21327.000000</td>\n",
       "      <td>2.000000</td>\n",
       "      <td>170.000000</td>\n",
       "      <td>82.000000</td>\n",
       "      <td>140.000000</td>\n",
       "      <td>90.000000</td>\n",
       "      <td>2.000000</td>\n",
       "      <td>1.000000</td>\n",
       "      <td>0.000000</td>\n",
       "      <td>0.000000</td>\n",
       "      <td>1.000000</td>\n",
       "      <td>1.000000</td>\n",
       "    </tr>\n",
       "    <tr>\n",
       "      <th>max</th>\n",
       "      <td>99999.000000</td>\n",
       "      <td>23713.000000</td>\n",
       "      <td>2.000000</td>\n",
       "      <td>250.000000</td>\n",
       "      <td>200.000000</td>\n",
       "      <td>16020.000000</td>\n",
       "      <td>11000.000000</td>\n",
       "      <td>3.000000</td>\n",
       "      <td>3.000000</td>\n",
       "      <td>1.000000</td>\n",
       "      <td>1.000000</td>\n",
       "      <td>1.000000</td>\n",
       "      <td>1.000000</td>\n",
       "    </tr>\n",
       "  </tbody>\n",
       "</table>\n",
       "</div>"
      ],
      "text/plain": [
       "                 id           age        gender        height        weight  \\\n",
       "count  70000.000000  70000.000000  70000.000000  70000.000000  70000.000000   \n",
       "mean   49972.419900  19468.865814      1.349571    164.359229     74.205690   \n",
       "std    28851.302323   2467.251667      0.476838      8.210126     14.395757   \n",
       "min        0.000000  10798.000000      1.000000     55.000000     10.000000   \n",
       "25%    25006.750000  17664.000000      1.000000    159.000000     65.000000   \n",
       "50%    50001.500000  19703.000000      1.000000    165.000000     72.000000   \n",
       "75%    74889.250000  21327.000000      2.000000    170.000000     82.000000   \n",
       "max    99999.000000  23713.000000      2.000000    250.000000    200.000000   \n",
       "\n",
       "              ap_hi         ap_lo   cholesterol          gluc         smoke  \\\n",
       "count  70000.000000  70000.000000  70000.000000  70000.000000  70000.000000   \n",
       "mean     128.817286     96.630414      1.366871      1.226457      0.088129   \n",
       "std      154.011419    188.472530      0.680250      0.572270      0.283484   \n",
       "min     -150.000000    -70.000000      1.000000      1.000000      0.000000   \n",
       "25%      120.000000     80.000000      1.000000      1.000000      0.000000   \n",
       "50%      120.000000     80.000000      1.000000      1.000000      0.000000   \n",
       "75%      140.000000     90.000000      2.000000      1.000000      0.000000   \n",
       "max    16020.000000  11000.000000      3.000000      3.000000      1.000000   \n",
       "\n",
       "               alco        active        cardio  \n",
       "count  70000.000000  70000.000000  70000.000000  \n",
       "mean       0.053771      0.803729      0.499700  \n",
       "std        0.225568      0.397179      0.500003  \n",
       "min        0.000000      0.000000      0.000000  \n",
       "25%        0.000000      1.000000      0.000000  \n",
       "50%        0.000000      1.000000      0.000000  \n",
       "75%        0.000000      1.000000      1.000000  \n",
       "max        1.000000      1.000000      1.000000  "
      ]
     },
     "execution_count": 83,
     "metadata": {
      "tags": []
     },
     "output_type": "execute_result"
    }
   ],
   "source": [
    "df.describe()"
   ]
  },
  {
   "cell_type": "code",
   "execution_count": 84,
   "metadata": {
    "colab": {
     "base_uri": "https://localhost:8080/",
     "height": 34
    },
    "colab_type": "code",
    "id": "GCEvojEX2XBt",
    "outputId": "8d90d24f-93a5-429d-e1f4-7ec03cd1b169"
   },
   "outputs": [
    {
     "data": {
      "text/plain": [
       "False"
      ]
     },
     "execution_count": 84,
     "metadata": {
      "tags": []
     },
     "output_type": "execute_result"
    }
   ],
   "source": [
    "df.isnull().values.any()"
   ]
  },
  {
   "cell_type": "code",
   "execution_count": 85,
   "metadata": {
    "colab": {
     "base_uri": "https://localhost:8080/",
     "height": 500
    },
    "colab_type": "code",
    "id": "xMWDckwL2ZfA",
    "outputId": "b5760265-c449-401a-d6f6-007177911221"
   },
   "outputs": [
    {
     "data": {
      "image/png": "[encoded data removed]",
      "text/plain": [
       "<Figure size 792x576 with 1 Axes>"
      ]
     },
     "metadata": {
      "tags": []
     },
     "output_type": "display_data"
    }
   ],
   "source": [
    "from matplotlib import rcParams                                     #people above 55 have high risk of cardiovascular diseases\n",
    "import seaborn as sns\n",
    "rcParams['figure.figsize'] = 11, 8\n",
    "df['age'] = (df['age'] / 365).round().astype('int')\n",
    "sns.countplot(x='age', hue='cardio', data = df, palette=\"Set2\");"
   ]
  },
  {
   "cell_type": "code",
   "execution_count": 86,
   "metadata": {
    "colab": {
     "base_uri": "https://localhost:8080/",
     "height": 500
    },
    "colab_type": "code",
    "id": "NA17mHO-2clE",
    "outputId": "79496a9e-3dc9-4c3d-a288-41830cc001e9"
   },
   "outputs": [
    {
     "data": {
      "image/png": "[encoded data removed]",
      "text/plain": [
       "<Figure size 792x576 with 1 Axes>"
      ]
     },
     "metadata": {
      "tags": []
     },
     "output_type": "display_data"
    }
   ],
   "source": [
    "df_categorical = df.loc[:,['cholesterol','gluc', 'smoke', 'alco', 'active']]\n",
    "sns.countplot(x=\"variable\", hue=\"value\",data= pd.melt(df_categorical));"
   ]
  },
  {
   "cell_type": "code",
   "execution_count": 87,
   "metadata": {
    "colab": {
     "base_uri": "https://localhost:8080/",
     "height": 369
    },
    "colab_type": "code",
    "id": "DBpb77AM2uKb",
    "outputId": "3a175cba-624b-44aa-9ca0-17f8e186fc7c"
   },
   "outputs": [
    {
     "data": {
      "image/png": "[encoded data removed]",
      "text/plain": [
       "<Figure size 762.375x360 with 2 Axes>"
      ]
     },
     "metadata": {
      "tags": []
     },
     "output_type": "display_data"
    }
   ],
   "source": [
    "df_long = pd.melt(df, id_vars=['cardio'], value_vars=['cholesterol','gluc', 'smoke', 'alco', 'active'])\n",
    "sns.catplot(x=\"variable\", hue=\"value\", col='cardio',data=df_long, kind=\"count\");"
   ]
  },
  {
   "cell_type": "code",
   "execution_count": 88,
   "metadata": {
    "colab": {
     "base_uri": "https://localhost:8080/",
     "height": 899
    },
    "colab_type": "code",
    "id": "nfveADpq2zQO",
    "outputId": "173635d7-74ec-4526-e977-760fc3b57b8c"
   },
   "outputs": [
    {
     "data": {
      "text/plain": [
       "<matplotlib.axes._subplots.AxesSubplot at 0x7f504e58bb38>"
      ]
     },
     "execution_count": 88,
     "metadata": {
      "tags": []
     },
     "output_type": "execute_result"
    },
    {
     "data": {
      "image/png": "[encoded data removed]",
      "text/plain": [
       "<Figure size 720x1080 with 2 Axes>"
      ]
     },
     "metadata": {
      "tags": []
     },
     "output_type": "display_data"
    }
   ],
   "source": [
    "import matplotlib.pyplot as plt\n",
    "data=df[['age', 'gender','height', 'weight','ap_hi','ap_lo','cholesterol','gluc','smoke','alco','active','cardio']]\n",
    "data1 = data[data['cardio']==0] # no disease  \n",
    "data1 = data1.iloc[:,:-1]\n",
    "\n",
    "data2 = data[data['cardio']==1] # with disease\n",
    "data2 = data2.iloc[:,:-1]\n",
    "\n",
    "fig = plt.figure(figsize=(10,15))\n",
    "\n",
    "ax1 = fig.add_subplot(211)\n",
    "ax2 = fig.add_subplot(212,sharex=ax1)\n",
    "\n",
    "ax1.grid()\n",
    "ax2.grid()\n",
    "\n",
    "ax1.set_title('Features vs mean values',fontsize=13,weight='bold')\n",
    "ax1.text(200,0.8,'NO DISEASE',fontsize=20,horizontalalignment='center',color='green',weight='bold')\n",
    "\n",
    "\n",
    "ax2.set_title('Features vs mean values',fontsize=13,weight='bold')\n",
    "ax2.text(200,0.8,'DISEASE',fontsize=20,horizontalalignment='center',color='red',weight='bold')\n",
    "\n",
    "# for axis ax1\n",
    "plt.sca(ax1)\n",
    "plt.xticks(rotation = 0, \n",
    "           weight='bold', \n",
    "           family='monospace',\n",
    "           size='large')\n",
    "plt.yticks( weight='bold', \n",
    "           family='monospace',\n",
    "           size='large')\n",
    "# for axis ax2\n",
    "plt.sca(ax2)\n",
    "plt.xticks(rotation = 0, \n",
    "           weight='bold', \n",
    "           family='monospace',\n",
    "           size='large')\n",
    "plt.yticks( weight='bold', \n",
    "           family='monospace',\n",
    "           size='large')\n",
    "\n",
    "# sns.set_style('whitegrid')\n",
    "\n",
    "sns.barplot(data=data1,ax=ax1,orient='horizontal', palette='bright') # no disease\n",
    "sns.barplot(data=data2,ax=ax2,orient='horizontal',palette='bright',saturation=0.80) # with disease"
   ]
  },
  {
   "cell_type": "code",
   "execution_count": 89,
   "metadata": {
    "colab": {
     "base_uri": "https://localhost:8080/",
     "height": 402
    },
    "colab_type": "code",
    "id": "_PWO54dK27-2",
    "outputId": "0e4f8319-46bc-4ab6-f906-0bb6835dbc5e"
   },
   "outputs": [
    {
     "data": {
      "text/plain": [
       "[None, None, None, None]"
      ]
     },
     "execution_count": 89,
     "metadata": {
      "tags": []
     },
     "output_type": "execute_result"
    },
    {
     "data": {
      "image/png": "[encoded data removed]",
      "text/plain": [
       "<Figure size 1080x432 with 2 Axes>"
      ]
     },
     "metadata": {
      "tags": []
     },
     "output_type": "display_data"
    }
   ],
   "source": [
    "fig= plt.figure(figsize=(15,6)) \n",
    "ax1 = fig.add_subplot(121)\n",
    "ax2 = fig.add_subplot(122)\n",
    "\n",
    "only_gender = data['gender']\n",
    " \n",
    "male_tot = only_gender[only_gender==2]                  #since 2 denotes men\n",
    "\n",
    "no_of_male = len(male_tot)\n",
    "no_of_female = len(data) - len(male_tot)\n",
    "\n",
    "m_vs_f = [no_of_male,no_of_female]\n",
    "\n",
    "\n",
    "with_disease = data[data['cardio']==1]\n",
    "not_with_disease = data[data['cardio']==0]\n",
    "\n",
    "with_disease = with_disease['gender']\n",
    "\n",
    "no_of_diseased = len(with_disease)\n",
    "no_of_not_diseased = len(data) - len(with_disease)\n",
    "\n",
    "d_vs_healthy = [no_of_diseased,no_of_not_diseased]\n",
    "\n",
    "ax1.axis('equal')\n",
    "ax2.axis('equal')\n",
    "\n",
    "# pie plot\n",
    "wedges, texts, autotexts= ax1.pie(m_vs_f, \n",
    "                                  labels=('Male','Female'),\n",
    "                                  radius=1,\n",
    "                                  textprops=dict(color='k'),\n",
    "                                  colors=['xkcd:ocean blue','xkcd:dark pink'],\n",
    "                                  autopct=\"%1.1f%%\")\n",
    "\n",
    "# pie plot\n",
    "wedges2, texts2, autotexts2 = ax2.pie(d_vs_healthy, \n",
    "                                  labels=('Diseased','Not Diseased'),\n",
    "                                  radius=1,\n",
    "                                  textprops=dict(color='k'),\n",
    "                                  colors=['#d95f02','#1b9e77'],\n",
    "                                  autopct=\"%1.1f%%\")\n",
    "\n",
    "\n",
    "plt.setp(autotexts,size=20)\n",
    "plt.setp(texts,size=20)\n",
    "plt.setp(autotexts2,size=20)\n",
    "plt.setp(texts2,size=20)\n",
    "#print(m_vs_f)\n"
   ]
  },
  {
   "cell_type": "code",
   "execution_count": 90,
   "metadata": {
    "colab": {
     "base_uri": "https://localhost:8080/",
     "height": 402
    },
    "colab_type": "code",
    "id": "BXVymKZK33gA",
    "outputId": "aad66afd-13d7-4905-df2a-b88cc0d9e8cb"
   },
   "outputs": [
    {
     "data": {
      "text/plain": [
       "Text(0, 0.04, 'Female')"
      ]
     },
     "execution_count": 90,
     "metadata": {
      "tags": []
     },
     "output_type": "execute_result"
    },
    {
     "data": {
      "image/png": "[encoded data removed]",
      "text/plain": [
       "<Figure size 1080x432 with 2 Axes>"
      ]
     },
     "metadata": {
      "tags": []
     },
     "output_type": "display_data"
    }
   ],
   "source": [
    "fig= plt.figure(figsize=(15,6))\n",
    "ax1 = fig.add_subplot(121)\n",
    "ax2 = fig.add_subplot(122)\n",
    "\n",
    "with_disease = data[data['cardio']==1]\n",
    "not_with_disease = data[data['cardio']==0]\n",
    "\n",
    "with_disease_m = with_disease[with_disease['gender']==2]\n",
    "with_disease_m = with_disease['gender']\n",
    "not_with_disease_m = not_with_disease[not_with_disease['gender']==2]\n",
    "not_with_disease_m = not_with_disease['gender']\n",
    "\n",
    "with_disease_f = with_disease[with_disease['gender']==1]\n",
    "not_with_disease_f = not_with_disease[not_with_disease['gender']==1]\n",
    "\n",
    "no_of_diseased_m = len(with_disease_m)\n",
    "no_of_not_diseased_m = len(not_with_disease_m)\n",
    "\n",
    "no_of_diseased_f = len(with_disease_f)\n",
    "no_of_not_diseased_f = len(not_with_disease_f)\n",
    "\n",
    "d_vs_healthy_m = [no_of_diseased_m, no_of_not_diseased_m]\n",
    "d_vs_healthy_f = [no_of_diseased_f, no_of_not_diseased_f]\n",
    "\n",
    "ax1.axis('equal')\n",
    "ax2.axis('equal')\n",
    "# pie plot\n",
    "\n",
    "wedges, texts, autotexts = ax1.pie(d_vs_healthy_m, \n",
    "                                  labels=('Diseased','Not Diseased'),\n",
    "                                  radius=1,\n",
    "                                  textprops=dict(color='k'),\n",
    "                                  colors=['#f46d43','#4575b4'],\n",
    "                                  autopct=\"%1.1f%%\")\n",
    "\n",
    "wedges2, texts2, autotexts2 = ax2.pie(d_vs_healthy_f, \n",
    "                                  labels=('Diseased','Not Diseased'),\n",
    "                                  radius=1,\n",
    "                                  textprops=dict(color='k'),\n",
    "                                  colors=['#f46d43','#4575b4'],\n",
    "                                  autopct=\"%1.1f%%\")\n",
    "\n",
    "plt.setp(autotexts,size=20)\n",
    "plt.setp(texts,size=20)\n",
    "\n",
    "plt.setp(autotexts2,size=20)\n",
    "plt.setp(texts2,size=20)\n",
    "\n",
    "ax1.text(0,0.04,'Male',size=20,color='#f7fcfd',horizontalalignment='center',weight='bold')\n",
    "ax2.text(0,0.04,'Female',size=20,color='#f7fcfd',horizontalalignment='center',weight='bold')\n"
   ]
  },
  {
   "cell_type": "code",
   "execution_count": 91,
   "metadata": {
    "colab": {
     "base_uri": "https://localhost:8080/",
     "height": 34
    },
    "colab_type": "code",
    "id": "bi7AXZ8Z3_9I",
    "outputId": "0ea31b0f-5fb4-4adf-c987-ca0c91ada225"
   },
   "outputs": [
    {
     "name": "stdout",
     "output_type": "stream",
     "text": [
      "Diastilic pressure is higher than systolic blood pressure in 1234 cases\n"
     ]
    }
   ],
   "source": [
    "print(\"Diastilic pressure is higher than systolic blood pressure in {0} cases\".format(data[data['ap_lo']> data['ap_hi']].shape[0]))"
   ]
  },
  {
   "cell_type": "code",
   "execution_count": 92,
   "metadata": {
    "colab": {
     "base_uri": "https://localhost:8080/",
     "height": 210
    },
    "colab_type": "code",
    "id": "LdgqqpU04GXq",
    "outputId": "4740bc1b-c4c4-4925-fc08-bc7c4f35d8b2"
   },
   "outputs": [
    {
     "name": "stderr",
     "output_type": "stream",
     "text": [
      "/usr/local/lib/python3.6/dist-packages/ipykernel_launcher.py:1: SettingWithCopyWarning: \n",
      "A value is trying to be set on a copy of a slice from a DataFrame\n",
      "\n",
      "See the caveats in the documentation: http://pandas.pydata.org/pandas-docs/stable/indexing.html#indexing-view-versus-copy\n",
      "  \"\"\"Entry point for launching an IPython kernel.\n"
     ]
    },
    {
     "name": "stdout",
     "output_type": "stream",
     "text": [
      "Diastilic pressure is higher than systolic blood pressure in 0 cases\n"
     ]
    },
    {
     "name": "stderr",
     "output_type": "stream",
     "text": [
      "/usr/local/lib/python3.6/dist-packages/ipykernel_launcher.py:2: SettingWithCopyWarning: \n",
      "A value is trying to be set on a copy of a slice from a DataFrame\n",
      "\n",
      "See the caveats in the documentation: http://pandas.pydata.org/pandas-docs/stable/indexing.html#indexing-view-versus-copy\n",
      "  \n"
     ]
    }
   ],
   "source": [
    "data.drop(data[(data['ap_hi'] > data['ap_hi'].quantile(0.975)) | (data['ap_hi'] < data['ap_hi'].quantile(0.025))].index,inplace=True)\n",
    "data.drop(data[(data['ap_lo'] > data['ap_lo'].quantile(0.975)) | (data['ap_lo'] < data['ap_lo'].quantile(0.025))].index,inplace=True)\n",
    "print(\"Diastilic pressure is higher than systolic blood pressure in {0} cases\".format(data[data['ap_lo']> data['ap_hi']].shape[0]))"
   ]
  },
  {
   "cell_type": "code",
   "execution_count": 0,
   "metadata": {
    "colab": {},
    "colab_type": "code",
    "id": "wS_d95Ba4It_"
   },
   "outputs": [],
   "source": [
    "data=(data-data.min())/(data.max()-data.min())"
   ]
  },
  {
   "cell_type": "code",
   "execution_count": 0,
   "metadata": {
    "colab": {},
    "colab_type": "code",
    "id": "0_O6SCUK4YWv"
   },
   "outputs": [],
   "source": [
    "import pandas\n",
    "import numpy\n",
    "from sklearn.feature_selection import SelectKBest\n",
    "from sklearn.feature_selection import chi2"
   ]
  },
  {
   "cell_type": "code",
   "execution_count": 0,
   "metadata": {
    "colab": {},
    "colab_type": "code",
    "id": "oIFMVSA64bbC"
   },
   "outputs": [],
   "source": [
    "all_features = data[['age', 'gender','height', 'weight','ap_hi','ap_lo','cholesterol','gluc','smoke','alco','active']].values\n",
    "\n",
    "all_classes = data['cardio'].values\n",
    "\n",
    "feature_names = ['age', 'gender','height', 'weight','ap_hi','ap_lo','cholestrol','gluc','smoke','alco','active']"
   ]
  },
  {
   "cell_type": "code",
   "execution_count": 96,
   "metadata": {
    "colab": {
     "base_uri": "https://localhost:8080/",
     "height": 246
    },
    "colab_type": "code",
    "id": "_4NZSu_u4fyF",
    "outputId": "4a471197-5187-4b87-a2af-08c974f4531e"
   },
   "outputs": [
    {
     "name": "stdout",
     "output_type": "stream",
     "text": [
      "[2.06198951e+02 1.90548946e-03 6.29816199e-02 3.16314194e+01\n",
      " 1.40539810e+03 6.02761855e+02 2.02821447e+03 3.63793491e+02\n",
      " 2.28377042e+01 8.47064282e+00 1.87620150e+01]\n",
      "[[0.57142857 0.26984127 0.14285714 0.5        0.         0.\n",
      "  0.         0.         1.        ]\n",
      " [0.71428571 0.39153439 0.57142857 0.75       1.         0.\n",
      "  0.         0.         1.        ]\n",
      " [0.62857143 0.28042328 0.42857143 0.25       1.         0.\n",
      "  0.         0.         0.        ]\n",
      " [0.51428571 0.37566138 0.71428571 1.         0.         0.\n",
      "  0.         0.         1.        ]\n",
      " [0.51428571 0.23809524 0.         0.         0.         0.\n",
      "  0.         0.         0.        ]]\n"
     ]
    }
   ],
   "source": [
    "# feature extraction\n",
    "test = SelectKBest(score_func=chi2, k=9)\n",
    "fit = test.fit(all_features,all_classes)\n",
    "print(fit.scores_)\n",
    "features_univariate = fit.transform(all_features)\n",
    "print(features_univariate[:5,:])"
   ]
  },
  {
   "cell_type": "code",
   "execution_count": 97,
   "metadata": {
    "colab": {
     "base_uri": "https://localhost:8080/",
     "height": 70
    },
    "colab_type": "code",
    "id": "1TYKOiVx4__9",
    "outputId": "f67fa217-9d69-4b2f-a962-d853d56bfe35"
   },
   "outputs": [
    {
     "name": "stdout",
     "output_type": "stream",
     "text": [
      "Num Features: 9\n",
      "Selected Features: [ True False  True  True  True  True  True  True False  True  True]\n",
      "Feature Ranking: [1 3 1 1 1 1 1 1 2 1 1]\n"
     ]
    }
   ],
   "source": [
    "from sklearn.feature_selection import RFE\n",
    "from sklearn.linear_model import LogisticRegression\n",
    "model = LogisticRegression(solver='lbfgs')\n",
    "rfe = RFE(model,9)\n",
    "fit = rfe.fit(all_features,all_classes)\n",
    "print(\"Num Features: %d\" % (fit.n_features_))\n",
    "print(\"Selected Features: %s\"%(fit.support_))\n",
    "print(\"Feature Ranking: %s\" %(fit.ranking_))"
   ]
  },
  {
   "cell_type": "code",
   "execution_count": 0,
   "metadata": {
    "colab": {},
    "colab_type": "code",
    "id": "rF_-Jwia5FqL"
   },
   "outputs": [],
   "source": [
    "features_rfe = data[['age','height', 'weight','ap_hi','ap_lo','cholesterol','gluc','alco','active']].values\n",
    "\n"
   ]
  },
  {
   "cell_type": "code",
   "execution_count": 99,
   "metadata": {
    "colab": {
     "base_uri": "https://localhost:8080/",
     "height": 87
    },
    "colab_type": "code",
    "id": "O2qteYtp5jej",
    "outputId": "3c1398a3-242c-4892-c916-a3e7b2c65518"
   },
   "outputs": [
    {
     "name": "stderr",
     "output_type": "stream",
     "text": [
      "/usr/local/lib/python3.6/dist-packages/sklearn/ensemble/forest.py:246: FutureWarning: The default value of n_estimators will change from 10 in version 0.20 to 100 in 0.22.\n",
      "  \"10 in version 0.20 to 100 in 0.22.\", FutureWarning)\n"
     ]
    },
    {
     "name": "stdout",
     "output_type": "stream",
     "text": [
      "[0.13599244 0.01091328 0.2466391  0.26362039 0.15163722 0.10680719\n",
      " 0.04743394 0.01675838 0.0069891  0.0044671  0.00874185]\n"
     ]
    }
   ],
   "source": [
    "from sklearn.ensemble import ExtraTreesClassifier\n",
    "model = ExtraTreesClassifier()\n",
    "model.fit(all_features,all_classes)\n",
    "print(model.feature_importances_)"
   ]
  },
  {
   "cell_type": "code",
   "execution_count": 0,
   "metadata": {
    "colab": {},
    "colab_type": "code",
    "id": "06pW0-FQ5rZb"
   },
   "outputs": [],
   "source": [
    "features_tree = data[['age', 'gender','height', 'weight','ap_hi','ap_lo','cholesterol','gluc','smoke']].values"
   ]
  },
  {
   "cell_type": "code",
   "execution_count": 101,
   "metadata": {
    "colab": {
     "base_uri": "https://localhost:8080/",
     "height": 72
    },
    "colab_type": "code",
    "id": "TNgti-Y456cW",
    "outputId": "9a106023-f968-4cc3-a1a7-80be7d2ae0e1"
   },
   "outputs": [
    {
     "name": "stderr",
     "output_type": "stream",
     "text": [
      "/usr/local/lib/python3.6/dist-packages/sklearn/model_selection/_split.py:2179: FutureWarning: From version 0.21, test_size will always complement train_size unless both are specified.\n",
      "  FutureWarning)\n"
     ]
    }
   ],
   "source": [
    "import numpy\n",
    "from sklearn.model_selection import train_test_split\n",
    "\n",
    "(training_inputs,\n",
    " testing_inputs,\n",
    " training_classes,\n",
    " testing_classes) = train_test_split(features_univariate, all_classes, train_size=0.75, random_state=0)"
   ]
  },
  {
   "cell_type": "code",
   "execution_count": 102,
   "metadata": {
    "colab": {
     "base_uri": "https://localhost:8080/",
     "height": 34
    },
    "colab_type": "code",
    "id": "rtOSO00n6JS6",
    "outputId": "b2d38aca-290f-4328-d64f-106d457ecf79"
   },
   "outputs": [
    {
     "data": {
      "text/plain": [
       "0.7233090228068046"
      ]
     },
     "execution_count": 102,
     "metadata": {
      "tags": []
     },
     "output_type": "execute_result"
    }
   ],
   "source": [
    "from sklearn.linear_model import LogisticRegression\n",
    "from sklearn.model_selection import cross_val_score\n",
    "clf_uni = LogisticRegression(solver='lbfgs')\n",
    "cv_scores = cross_val_score(clf_uni,features_univariate, all_classes, cv=10)\n",
    "cv_scores.mean()"
   ]
  },
  {
   "cell_type": "code",
   "execution_count": 103,
   "metadata": {
    "colab": {
     "base_uri": "https://localhost:8080/",
     "height": 34
    },
    "colab_type": "code",
    "id": "EqKmkDAo6MMJ",
    "outputId": "07fc97d3-d2bb-4d35-f7b5-631264c3e685"
   },
   "outputs": [
    {
     "data": {
      "text/plain": [
       "0.7231881335191334"
      ]
     },
     "execution_count": 103,
     "metadata": {
      "tags": []
     },
     "output_type": "execute_result"
    }
   ],
   "source": [
    "from sklearn.linear_model import LogisticRegression\n",
    "from sklearn.model_selection import cross_val_score\n",
    "clf_uni = LogisticRegression(solver='lbfgs')\n",
    "cv_scores = cross_val_score(clf_uni,features_rfe, all_classes, cv=10)\n",
    "cv_scores.mean()"
   ]
  },
  {
   "cell_type": "code",
   "execution_count": 104,
   "metadata": {
    "colab": {
     "base_uri": "https://localhost:8080/",
     "height": 34
    },
    "colab_type": "code",
    "id": "MYvY9xQe6YZ-",
    "outputId": "51c88e62-e167-425f-cfa0-901d5f9983df"
   },
   "outputs": [
    {
     "data": {
      "text/plain": [
       "0.7219492825080205"
      ]
     },
     "execution_count": 104,
     "metadata": {
      "tags": []
     },
     "output_type": "execute_result"
    }
   ],
   "source": [
    "from sklearn.linear_model import LogisticRegression\n",
    "from sklearn.model_selection import cross_val_score\n",
    "clf_uni = LogisticRegression(solver='lbfgs')\n",
    "cv_scores = cross_val_score(clf_uni,features_tree, all_classes, cv=10)\n",
    "cv_scores.mean()"
   ]
  },
  {
   "cell_type": "code",
   "execution_count": 105,
   "metadata": {
    "colab": {
     "base_uri": "https://localhost:8080/",
     "height": 34
    },
    "colab_type": "code",
    "id": "Zczt01XU6bE1",
    "outputId": "1af8d348-a894-4f55-fa8e-27edaa35e7c0"
   },
   "outputs": [
    {
     "data": {
      "text/plain": [
       "0.6056077980938577"
      ]
     },
     "execution_count": 105,
     "metadata": {
      "tags": []
     },
     "output_type": "execute_result"
    }
   ],
   "source": [
    "from sklearn.naive_bayes import MultinomialNB\n",
    "from sklearn import preprocessing\n",
    "clf = MultinomialNB()\n",
    "cv_scores = cross_val_score(clf,features_univariate, all_classes, cv=10)\n",
    "\n",
    "cv_scores.mean()"
   ]
  },
  {
   "cell_type": "code",
   "execution_count": 106,
   "metadata": {
    "colab": {
     "base_uri": "https://localhost:8080/",
     "height": 34
    },
    "colab_type": "code",
    "id": "UH9b4rqQ6mau",
    "outputId": "09d183c2-0064-4e2f-8463-89a9becc4bbc"
   },
   "outputs": [
    {
     "data": {
      "text/plain": [
       "0.6348707004407025"
      ]
     },
     "execution_count": 106,
     "metadata": {
      "tags": []
     },
     "output_type": "execute_result"
    }
   ],
   "source": [
    "from sklearn.naive_bayes import MultinomialNB\n",
    "from sklearn import preprocessing\n",
    "clf = MultinomialNB()\n",
    "cv_scores = cross_val_score(clf,features_tree, all_classes, cv=10)\n",
    "\n",
    "cv_scores.mean()"
   ]
  },
  {
   "cell_type": "code",
   "execution_count": 107,
   "metadata": {
    "colab": {
     "base_uri": "https://localhost:8080/",
     "height": 34
    },
    "colab_type": "code",
    "id": "ltEHV6mL6nvT",
    "outputId": "b6d90c2e-fd29-4fc9-ce2e-cc5797c1c658"
   },
   "outputs": [
    {
     "data": {
      "text/plain": [
       "0.6221353175364086"
      ]
     },
     "execution_count": 107,
     "metadata": {
      "tags": []
     },
     "output_type": "execute_result"
    }
   ],
   "source": [
    "from sklearn.naive_bayes import MultinomialNB\n",
    "from sklearn import preprocessing\n",
    "clf = MultinomialNB()\n",
    "cv_scores = cross_val_score(clf,features_rfe, all_classes, cv=10)\n",
    "\n",
    "cv_scores.mean()"
   ]
  },
  {
   "cell_type": "code",
   "execution_count": 0,
   "metadata": {
    "colab": {},
    "colab_type": "code",
    "id": "2UWAc4HQ6qnb"
   },
   "outputs": [],
   "source": [
    "from tensorflow.keras.layers import Dense\n",
    "from tensorflow.keras.models import Sequential\n",
    "\n",
    "def create_model():\n",
    "    model = Sequential()\n",
    "    #4 feature inputs going into an 6-unit layer (more does not seem to help - in fact you can go down to 4)\n",
    "    model.add(Dense(400, input_dim=9, kernel_initializer='normal', activation='relu'))\n",
    "    model.add(Dense(400, kernel_initializer='normal', activation='relu'))\n",
    "    model.add(Dense(400, kernel_initializer='normal', activation='relu'))\n",
    "    # Output layer with a binary classification (benign or malignant)\n",
    "    model.add(Dense(1, kernel_initializer='normal', activation='sigmoid'))\n",
    "    # Compile model; adam seemed to work best\n",
    "    model.compile(loss='binary_crossentropy', optimizer='adam', metrics=['accuracy'])\n",
    "    return model"
   ]
  },
  {
   "cell_type": "code",
   "execution_count": 110,
   "metadata": {
    "colab": {
     "base_uri": "https://localhost:8080/",
     "height": 7110
    },
    "colab_type": "code",
    "id": "puS5jAgQ6z97",
    "outputId": "52f7201c-2cc6-4bb9-824e-22f875bde3ac"
   },
   "outputs": [
    {
     "name": "stdout",
     "output_type": "stream",
     "text": [
      "Epoch 1/100\n",
      "33096/33096 [==============================] - 9s 286us/sample - loss: 0.5669 - acc: 0.7158\n",
      "Epoch 2/100\n",
      "33096/33096 [==============================] - 9s 273us/sample - loss: 0.5596 - acc: 0.7215\n",
      "Epoch 3/100\n",
      "33096/33096 [==============================] - 9s 275us/sample - loss: 0.5579 - acc: 0.7211\n",
      "Epoch 4/100\n",
      "33096/33096 [==============================] - 9s 281us/sample - loss: 0.5565 - acc: 0.7211\n",
      "Epoch 5/100\n",
      "33096/33096 [==============================] - 10s 293us/sample - loss: 0.5550 - acc: 0.7243\n",
      "Epoch 6/100\n",
      "33096/33096 [==============================] - 9s 278us/sample - loss: 0.5538 - acc: 0.7253\n",
      "Epoch 7/100\n",
      "33096/33096 [==============================] - 9s 285us/sample - loss: 0.5527 - acc: 0.7260\n",
      "Epoch 8/100\n",
      "33096/33096 [==============================] - 9s 284us/sample - loss: 0.5531 - acc: 0.7254\n",
      "Epoch 9/100\n",
      "33096/33096 [==============================] - 9s 280us/sample - loss: 0.5518 - acc: 0.7256\n",
      "Epoch 10/100\n",
      "33096/33096 [==============================] - 9s 277us/sample - loss: 0.5516 - acc: 0.7260\n",
      "Epoch 11/100\n",
      "33096/33096 [==============================] - 9s 282us/sample - loss: 0.5508 - acc: 0.7264\n",
      "Epoch 12/100\n",
      "33096/33096 [==============================] - 9s 280us/sample - loss: 0.5508 - acc: 0.7255\n",
      "Epoch 13/100\n",
      "33096/33096 [==============================] - 9s 276us/sample - loss: 0.5507 - acc: 0.7261\n",
      "Epoch 14/100\n",
      "33096/33096 [==============================] - 9s 279us/sample - loss: 0.5500 - acc: 0.7267\n",
      "Epoch 15/100\n",
      "33096/33096 [==============================] - 9s 277us/sample - loss: 0.5498 - acc: 0.7267\n",
      "Epoch 16/100\n",
      "33096/33096 [==============================] - 9s 275us/sample - loss: 0.5490 - acc: 0.7272\n",
      "Epoch 17/100\n",
      "33096/33096 [==============================] - 10s 292us/sample - loss: 0.5489 - acc: 0.7283\n",
      "Epoch 18/100\n",
      "33096/33096 [==============================] - 10s 300us/sample - loss: 0.5484 - acc: 0.7289\n",
      "Epoch 19/100\n",
      "33096/33096 [==============================] - 9s 278us/sample - loss: 0.5488 - acc: 0.7276\n",
      "Epoch 20/100\n",
      "33096/33096 [==============================] - 9s 280us/sample - loss: 0.5482 - acc: 0.7280\n",
      "Epoch 21/100\n",
      "33096/33096 [==============================] - 9s 279us/sample - loss: 0.5479 - acc: 0.7282\n",
      "Epoch 22/100\n",
      "33096/33096 [==============================] - 9s 273us/sample - loss: 0.5476 - acc: 0.7270\n",
      "Epoch 23/100\n",
      "33096/33096 [==============================] - 9s 268us/sample - loss: 0.5473 - acc: 0.7285\n",
      "Epoch 24/100\n",
      "33096/33096 [==============================] - 9s 277us/sample - loss: 0.5478 - acc: 0.7287\n",
      "Epoch 25/100\n",
      "33096/33096 [==============================] - 9s 281us/sample - loss: 0.5481 - acc: 0.7284\n",
      "Epoch 26/100\n",
      "33096/33096 [==============================] - 9s 277us/sample - loss: 0.5469 - acc: 0.7280\n",
      "Epoch 27/100\n",
      "33096/33096 [==============================] - 9s 279us/sample - loss: 0.5470 - acc: 0.7294\n",
      "Epoch 28/100\n",
      "33096/33096 [==============================] - 9s 281us/sample - loss: 0.5467 - acc: 0.7293\n",
      "Epoch 29/100\n",
      "33096/33096 [==============================] - 9s 279us/sample - loss: 0.5462 - acc: 0.7305\n",
      "Epoch 30/100\n",
      "33096/33096 [==============================] - 9s 278us/sample - loss: 0.5460 - acc: 0.7311\n",
      "Epoch 31/100\n",
      "33096/33096 [==============================] - 9s 280us/sample - loss: 0.5458 - acc: 0.7289\n",
      "Epoch 32/100\n",
      "33096/33096 [==============================] - 9s 278us/sample - loss: 0.5459 - acc: 0.7282\n",
      "Epoch 33/100\n",
      "33096/33096 [==============================] - 9s 280us/sample - loss: 0.5459 - acc: 0.7301\n",
      "Epoch 34/100\n",
      "33096/33096 [==============================] - 9s 276us/sample - loss: 0.5450 - acc: 0.7310\n",
      "Epoch 35/100\n",
      "33096/33096 [==============================] - 9s 277us/sample - loss: 0.5450 - acc: 0.7309\n",
      "Epoch 36/100\n",
      "33096/33096 [==============================] - 9s 283us/sample - loss: 0.5448 - acc: 0.7294\n",
      "Epoch 37/100\n",
      "33096/33096 [==============================] - 9s 275us/sample - loss: 0.5447 - acc: 0.7296\n",
      "Epoch 38/100\n",
      "33096/33096 [==============================] - 10s 301us/sample - loss: 0.5446 - acc: 0.7298\n",
      "Epoch 39/100\n",
      "33096/33096 [==============================] - 9s 281us/sample - loss: 0.5451 - acc: 0.7294\n",
      "Epoch 40/100\n",
      "33096/33096 [==============================] - 9s 278us/sample - loss: 0.5441 - acc: 0.7295\n",
      "Epoch 41/100\n",
      "33096/33096 [==============================] - 9s 276us/sample - loss: 0.5442 - acc: 0.7302\n",
      "Epoch 42/100\n",
      "33096/33096 [==============================] - 9s 271us/sample - loss: 0.5435 - acc: 0.7317\n",
      "Epoch 43/100\n",
      "33096/33096 [==============================] - 9s 283us/sample - loss: 0.5434 - acc: 0.7313\n",
      "Epoch 44/100\n",
      "33096/33096 [==============================] - 9s 279us/sample - loss: 0.5428 - acc: 0.7300\n",
      "Epoch 45/100\n",
      "33096/33096 [==============================] - 9s 277us/sample - loss: 0.5435 - acc: 0.7319\n",
      "Epoch 46/100\n",
      "33096/33096 [==============================] - 9s 274us/sample - loss: 0.5433 - acc: 0.7306\n",
      "Epoch 47/100\n",
      "33096/33096 [==============================] - 9s 275us/sample - loss: 0.5425 - acc: 0.7330\n",
      "Epoch 48/100\n",
      "33096/33096 [==============================] - 9s 276us/sample - loss: 0.5427 - acc: 0.7320\n",
      "Epoch 49/100\n",
      "33096/33096 [==============================] - 9s 276us/sample - loss: 0.5421 - acc: 0.7311\n",
      "Epoch 50/100\n",
      "33096/33096 [==============================] - 9s 280us/sample - loss: 0.5419 - acc: 0.7310\n",
      "Epoch 51/100\n",
      "33096/33096 [==============================] - 10s 301us/sample - loss: 0.5420 - acc: 0.7307\n",
      "Epoch 52/100\n",
      "33096/33096 [==============================] - 10s 288us/sample - loss: 0.5412 - acc: 0.7331\n",
      "Epoch 53/100\n",
      "33096/33096 [==============================] - 9s 282us/sample - loss: 0.5411 - acc: 0.7317\n",
      "Epoch 54/100\n",
      "33096/33096 [==============================] - 9s 276us/sample - loss: 0.5412 - acc: 0.7324\n",
      "Epoch 55/100\n",
      "33096/33096 [==============================] - 9s 276us/sample - loss: 0.5411 - acc: 0.7317\n",
      "Epoch 56/100\n",
      "33096/33096 [==============================] - 9s 281us/sample - loss: 0.5409 - acc: 0.7324\n",
      "Epoch 57/100\n",
      "33096/33096 [==============================] - 9s 282us/sample - loss: 0.5404 - acc: 0.7328\n",
      "Epoch 58/100\n",
      "33096/33096 [==============================] - 9s 278us/sample - loss: 0.5404 - acc: 0.7334\n",
      "Epoch 59/100\n",
      "33096/33096 [==============================] - 9s 274us/sample - loss: 0.5400 - acc: 0.7323\n",
      "Epoch 60/100\n",
      "33096/33096 [==============================] - 9s 274us/sample - loss: 0.5400 - acc: 0.7317\n",
      "Epoch 61/100\n",
      "33096/33096 [==============================] - 9s 279us/sample - loss: 0.5395 - acc: 0.7320\n",
      "Epoch 62/100\n",
      "33096/33096 [==============================] - 9s 281us/sample - loss: 0.5392 - acc: 0.7337\n",
      "Epoch 63/100\n",
      "33096/33096 [==============================] - 9s 283us/sample - loss: 0.5389 - acc: 0.7330\n",
      "Epoch 64/100\n",
      "33096/33096 [==============================] - 9s 279us/sample - loss: 0.5386 - acc: 0.7348\n",
      "Epoch 65/100\n",
      "33096/33096 [==============================] - 9s 279us/sample - loss: 0.5386 - acc: 0.7339\n",
      "Epoch 66/100\n",
      "33096/33096 [==============================] - 9s 279us/sample - loss: 0.5377 - acc: 0.7339\n",
      "Epoch 67/100\n",
      "33096/33096 [==============================] - 9s 272us/sample - loss: 0.5374 - acc: 0.7340\n",
      "Epoch 68/100\n",
      "33096/33096 [==============================] - 9s 276us/sample - loss: 0.5373 - acc: 0.7355\n",
      "Epoch 69/100\n",
      "33096/33096 [==============================] - 9s 279us/sample - loss: 0.5368 - acc: 0.7344\n",
      "Epoch 70/100\n",
      "33096/33096 [==============================] - 9s 276us/sample - loss: 0.5368 - acc: 0.7346\n",
      "Epoch 71/100\n",
      "33096/33096 [==============================] - 10s 298us/sample - loss: 0.5361 - acc: 0.7362\n",
      "Epoch 72/100\n",
      "33096/33096 [==============================] - 9s 274us/sample - loss: 0.5361 - acc: 0.7351\n",
      "Epoch 73/100\n",
      "33096/33096 [==============================] - 9s 271us/sample - loss: 0.5354 - acc: 0.7352\n",
      "Epoch 74/100\n",
      "33096/33096 [==============================] - 9s 274us/sample - loss: 0.5357 - acc: 0.7342\n",
      "Epoch 75/100\n",
      "33096/33096 [==============================] - 9s 273us/sample - loss: 0.5349 - acc: 0.7343\n",
      "Epoch 76/100\n",
      "33096/33096 [==============================] - 9s 281us/sample - loss: 0.5344 - acc: 0.7362\n",
      "Epoch 77/100\n",
      "33096/33096 [==============================] - 9s 276us/sample - loss: 0.5344 - acc: 0.7354\n",
      "Epoch 78/100\n",
      "33096/33096 [==============================] - 9s 275us/sample - loss: 0.5340 - acc: 0.7353\n",
      "Epoch 79/100\n",
      "33096/33096 [==============================] - 9s 275us/sample - loss: 0.5336 - acc: 0.7359\n",
      "Epoch 80/100\n",
      "33096/33096 [==============================] - 9s 272us/sample - loss: 0.5331 - acc: 0.7358\n",
      "Epoch 81/100\n",
      "33096/33096 [==============================] - 9s 271us/sample - loss: 0.5330 - acc: 0.7360\n",
      "Epoch 82/100\n",
      "33096/33096 [==============================] - 9s 268us/sample - loss: 0.5333 - acc: 0.7381\n",
      "Epoch 83/100\n",
      "33096/33096 [==============================] - 9s 276us/sample - loss: 0.5321 - acc: 0.7385\n",
      "Epoch 84/100\n",
      "33096/33096 [==============================] - 9s 272us/sample - loss: 0.5332 - acc: 0.7394\n",
      "Epoch 85/100\n",
      "33096/33096 [==============================] - 10s 307us/sample - loss: 0.5319 - acc: 0.7357\n",
      "Epoch 86/100\n",
      "33096/33096 [==============================] - 9s 285us/sample - loss: 0.5318 - acc: 0.7383\n",
      "Epoch 87/100\n",
      "33096/33096 [==============================] - 9s 278us/sample - loss: 0.5304 - acc: 0.7384\n",
      "Epoch 88/100\n",
      "33096/33096 [==============================] - 9s 282us/sample - loss: 0.5307 - acc: 0.7390\n",
      "Epoch 89/100\n",
      "33096/33096 [==============================] - 9s 282us/sample - loss: 0.5304 - acc: 0.7384\n",
      "Epoch 90/100\n",
      "33096/33096 [==============================] - 9s 278us/sample - loss: 0.5294 - acc: 0.7389\n",
      "Epoch 91/100\n",
      "33096/33096 [==============================] - 9s 276us/sample - loss: 0.5296 - acc: 0.7387\n",
      "Epoch 92/100\n",
      "33096/33096 [==============================] - 9s 280us/sample - loss: 0.5301 - acc: 0.7392\n",
      "Epoch 93/100\n",
      "33096/33096 [==============================] - 9s 281us/sample - loss: 0.5288 - acc: 0.7394\n",
      "Epoch 94/100\n",
      "33096/33096 [==============================] - 9s 282us/sample - loss: 0.5299 - acc: 0.7395\n",
      "Epoch 95/100\n",
      "33096/33096 [==============================] - 9s 271us/sample - loss: 0.5293 - acc: 0.7383\n",
      "Epoch 96/100\n",
      "33096/33096 [==============================] - 9s 280us/sample - loss: 0.5280 - acc: 0.7388\n",
      "Epoch 97/100\n",
      "33096/33096 [==============================] - 9s 275us/sample - loss: 0.5277 - acc: 0.7401\n",
      "Epoch 98/100\n",
      "33096/33096 [==============================] - 9s 280us/sample - loss: 0.5276 - acc: 0.7402\n",
      "Epoch 99/100\n",
      "33096/33096 [==============================] - 9s 281us/sample - loss: 0.5268 - acc: 0.7419\n",
      "Epoch 100/100\n",
      "33096/33096 [==============================] - 9s 278us/sample - loss: 0.5268 - acc: 0.7389\n",
      "33097/33097 [==============================] - 3s 80us/sample - loss: 0.5935 - acc: 0.7215\n",
      "Epoch 1/100\n",
      "33097/33097 [==============================] - 9s 286us/sample - loss: 0.5703 - acc: 0.7145\n",
      "Epoch 2/100\n",
      "33097/33097 [==============================] - 9s 279us/sample - loss: 0.5595 - acc: 0.7223\n",
      "Epoch 3/100\n",
      "33097/33097 [==============================] - 9s 274us/sample - loss: 0.5579 - acc: 0.7249\n",
      "Epoch 4/100\n",
      "33097/33097 [==============================] - 10s 295us/sample - loss: 0.5554 - acc: 0.7263\n",
      "Epoch 5/100\n",
      "33097/33097 [==============================] - 9s 269us/sample - loss: 0.5544 - acc: 0.7264\n",
      "Epoch 6/100\n",
      "33097/33097 [==============================] - 9s 270us/sample - loss: 0.5539 - acc: 0.7262\n",
      "Epoch 7/100\n",
      "33097/33097 [==============================] - 9s 273us/sample - loss: 0.5526 - acc: 0.7276\n",
      "Epoch 8/100\n",
      "33097/33097 [==============================] - 9s 277us/sample - loss: 0.5528 - acc: 0.7262\n",
      "Epoch 9/100\n",
      "33097/33097 [==============================] - 9s 276us/sample - loss: 0.5522 - acc: 0.7259\n",
      "Epoch 10/100\n",
      "33097/33097 [==============================] - 9s 268us/sample - loss: 0.5518 - acc: 0.7273\n",
      "Epoch 11/100\n",
      "33097/33097 [==============================] - 9s 277us/sample - loss: 0.5510 - acc: 0.7282\n",
      "Epoch 12/100\n",
      "33097/33097 [==============================] - 9s 276us/sample - loss: 0.5503 - acc: 0.7296\n",
      "Epoch 13/100\n",
      "33097/33097 [==============================] - 9s 273us/sample - loss: 0.5507 - acc: 0.7298\n",
      "Epoch 14/100\n",
      "33097/33097 [==============================] - 9s 274us/sample - loss: 0.5503 - acc: 0.7298\n",
      "Epoch 15/100\n",
      "33097/33097 [==============================] - 9s 279us/sample - loss: 0.5501 - acc: 0.7289\n",
      "Epoch 16/100\n",
      "33097/33097 [==============================] - 9s 276us/sample - loss: 0.5494 - acc: 0.7283\n",
      "Epoch 17/100\n",
      "33097/33097 [==============================] - 9s 279us/sample - loss: 0.5495 - acc: 0.7291\n",
      "Epoch 18/100\n",
      "33097/33097 [==============================] - 10s 301us/sample - loss: 0.5496 - acc: 0.7303\n",
      "Epoch 19/100\n",
      "33097/33097 [==============================] - 10s 291us/sample - loss: 0.5494 - acc: 0.7292\n",
      "Epoch 20/100\n",
      "33097/33097 [==============================] - 9s 273us/sample - loss: 0.5492 - acc: 0.7297\n",
      "Epoch 21/100\n",
      "33097/33097 [==============================] - 9s 273us/sample - loss: 0.5488 - acc: 0.7303\n",
      "Epoch 22/100\n",
      "33097/33097 [==============================] - 9s 280us/sample - loss: 0.5484 - acc: 0.7293\n",
      "Epoch 23/100\n",
      "33097/33097 [==============================] - 9s 280us/sample - loss: 0.5483 - acc: 0.7287\n",
      "Epoch 24/100\n",
      "33097/33097 [==============================] - 9s 277us/sample - loss: 0.5479 - acc: 0.7294\n",
      "Epoch 25/100\n",
      "33097/33097 [==============================] - 9s 280us/sample - loss: 0.5479 - acc: 0.7307\n",
      "Epoch 26/100\n",
      "33097/33097 [==============================] - 9s 278us/sample - loss: 0.5476 - acc: 0.7296\n",
      "Epoch 27/100\n",
      "33097/33097 [==============================] - 9s 273us/sample - loss: 0.5471 - acc: 0.7301\n",
      "Epoch 28/100\n",
      "33097/33097 [==============================] - 9s 276us/sample - loss: 0.5470 - acc: 0.7315\n",
      "Epoch 29/100\n",
      "33097/33097 [==============================] - 9s 278us/sample - loss: 0.5472 - acc: 0.7296\n",
      "Epoch 30/100\n",
      "33097/33097 [==============================] - 9s 277us/sample - loss: 0.5466 - acc: 0.7311\n",
      "Epoch 31/100\n",
      "33097/33097 [==============================] - 9s 274us/sample - loss: 0.5464 - acc: 0.7295\n",
      "Epoch 32/100\n",
      "33097/33097 [==============================] - 9s 275us/sample - loss: 0.5465 - acc: 0.7310\n",
      "Epoch 33/100\n",
      "33097/33097 [==============================] - 9s 273us/sample - loss: 0.5467 - acc: 0.7292\n",
      "Epoch 34/100\n",
      "33097/33097 [==============================] - 9s 277us/sample - loss: 0.5464 - acc: 0.7303\n",
      "Epoch 35/100\n",
      "33097/33097 [==============================] - 9s 278us/sample - loss: 0.5454 - acc: 0.7320\n",
      "Epoch 36/100\n",
      "33097/33097 [==============================] - 9s 276us/sample - loss: 0.5454 - acc: 0.7302\n",
      "Epoch 37/100\n",
      "33097/33097 [==============================] - 9s 286us/sample - loss: 0.5457 - acc: 0.7314\n",
      "Epoch 38/100\n",
      "33097/33097 [==============================] - 10s 289us/sample - loss: 0.5451 - acc: 0.7316\n",
      "Epoch 39/100\n",
      "33097/33097 [==============================] - 9s 282us/sample - loss: 0.5447 - acc: 0.7328\n",
      "Epoch 40/100\n",
      "33097/33097 [==============================] - 9s 280us/sample - loss: 0.5445 - acc: 0.7309\n",
      "Epoch 41/100\n",
      "33097/33097 [==============================] - 9s 281us/sample - loss: 0.5442 - acc: 0.7323\n",
      "Epoch 42/100\n",
      "33097/33097 [==============================] - 9s 281us/sample - loss: 0.5440 - acc: 0.7323\n",
      "Epoch 43/100\n",
      "33097/33097 [==============================] - 9s 275us/sample - loss: 0.5440 - acc: 0.7330\n",
      "Epoch 44/100\n",
      "33097/33097 [==============================] - 9s 279us/sample - loss: 0.5440 - acc: 0.7315\n",
      "Epoch 45/100\n",
      "33097/33097 [==============================] - 9s 280us/sample - loss: 0.5436 - acc: 0.7336\n",
      "Epoch 46/100\n",
      "33097/33097 [==============================] - 9s 275us/sample - loss: 0.5435 - acc: 0.7313\n",
      "Epoch 47/100\n",
      "33097/33097 [==============================] - 9s 276us/sample - loss: 0.5431 - acc: 0.7330\n",
      "Epoch 48/100\n",
      "33097/33097 [==============================] - 9s 275us/sample - loss: 0.5427 - acc: 0.7337\n",
      "Epoch 49/100\n",
      "33097/33097 [==============================] - 9s 278us/sample - loss: 0.5428 - acc: 0.7315\n",
      "Epoch 50/100\n",
      "33097/33097 [==============================] - 9s 276us/sample - loss: 0.5424 - acc: 0.7323\n",
      "Epoch 51/100\n",
      "33097/33097 [==============================] - 9s 269us/sample - loss: 0.5418 - acc: 0.7332\n",
      "Epoch 52/100\n",
      "33097/33097 [==============================] - 10s 303us/sample - loss: 0.5420 - acc: 0.7329\n",
      "Epoch 53/100\n",
      "33097/33097 [==============================] - 9s 282us/sample - loss: 0.5418 - acc: 0.7348\n",
      "Epoch 54/100\n",
      "33097/33097 [==============================] - 9s 278us/sample - loss: 0.5414 - acc: 0.7347\n",
      "Epoch 55/100\n",
      "33097/33097 [==============================] - 9s 282us/sample - loss: 0.5409 - acc: 0.7344\n",
      "Epoch 56/100\n",
      "33097/33097 [==============================] - 9s 277us/sample - loss: 0.5410 - acc: 0.7343\n",
      "Epoch 57/100\n",
      "33097/33097 [==============================] - 9s 277us/sample - loss: 0.5402 - acc: 0.7344\n",
      "Epoch 58/100\n",
      "33097/33097 [==============================] - 9s 278us/sample - loss: 0.5409 - acc: 0.7338\n",
      "Epoch 59/100\n",
      "33097/33097 [==============================] - 9s 276us/sample - loss: 0.5406 - acc: 0.7331\n",
      "Epoch 60/100\n",
      "33097/33097 [==============================] - 9s 275us/sample - loss: 0.5397 - acc: 0.7339\n",
      "Epoch 61/100\n",
      "33097/33097 [==============================] - 9s 277us/sample - loss: 0.5401 - acc: 0.7336\n",
      "Epoch 62/100\n",
      "33097/33097 [==============================] - 9s 280us/sample - loss: 0.5392 - acc: 0.7342\n",
      "Epoch 63/100\n",
      "33097/33097 [==============================] - 9s 281us/sample - loss: 0.5388 - acc: 0.7353\n",
      "Epoch 64/100\n",
      "33097/33097 [==============================] - 9s 270us/sample - loss: 0.5389 - acc: 0.7351\n",
      "Epoch 65/100\n",
      "33097/33097 [==============================] - 9s 275us/sample - loss: 0.5387 - acc: 0.7350\n",
      "Epoch 66/100\n",
      "33097/33097 [==============================] - 9s 276us/sample - loss: 0.5374 - acc: 0.7354\n",
      "Epoch 67/100\n",
      "33097/33097 [==============================] - 9s 279us/sample - loss: 0.5379 - acc: 0.7355\n",
      "Epoch 68/100\n",
      "33097/33097 [==============================] - 9s 275us/sample - loss: 0.5374 - acc: 0.7363\n",
      "Epoch 69/100\n",
      "33097/33097 [==============================] - 9s 275us/sample - loss: 0.5369 - acc: 0.7343\n",
      "Epoch 70/100\n",
      "33097/33097 [==============================] - 9s 279us/sample - loss: 0.5364 - acc: 0.7369\n",
      "Epoch 71/100\n",
      "33097/33097 [==============================] - 10s 298us/sample - loss: 0.5366 - acc: 0.7357\n",
      "Epoch 72/100\n",
      "33097/33097 [==============================] - 9s 275us/sample - loss: 0.5358 - acc: 0.7376\n",
      "Epoch 73/100\n",
      "33097/33097 [==============================] - 9s 280us/sample - loss: 0.5364 - acc: 0.7372\n",
      "Epoch 74/100\n",
      "33097/33097 [==============================] - 9s 279us/sample - loss: 0.5355 - acc: 0.7375\n",
      "Epoch 75/100\n",
      "33097/33097 [==============================] - 9s 280us/sample - loss: 0.5356 - acc: 0.7386\n",
      "Epoch 76/100\n",
      "33097/33097 [==============================] - 9s 277us/sample - loss: 0.5353 - acc: 0.7383\n",
      "Epoch 77/100\n",
      "33097/33097 [==============================] - 9s 277us/sample - loss: 0.5343 - acc: 0.7374\n",
      "Epoch 78/100\n",
      "33097/33097 [==============================] - 9s 278us/sample - loss: 0.5339 - acc: 0.7371\n",
      "Epoch 79/100\n",
      "33097/33097 [==============================] - 9s 275us/sample - loss: 0.5341 - acc: 0.7374\n",
      "Epoch 80/100\n",
      "33097/33097 [==============================] - 9s 276us/sample - loss: 0.5340 - acc: 0.7378\n",
      "Epoch 81/100\n",
      "33097/33097 [==============================] - 9s 280us/sample - loss: 0.5329 - acc: 0.7391\n",
      "Epoch 82/100\n",
      "33097/33097 [==============================] - 9s 275us/sample - loss: 0.5325 - acc: 0.7393\n",
      "Epoch 83/100\n",
      "33097/33097 [==============================] - 9s 276us/sample - loss: 0.5325 - acc: 0.7383\n",
      "Epoch 84/100\n",
      "33097/33097 [==============================] - 16s 475us/sample - loss: 0.5324 - acc: 0.7396\n",
      "Epoch 85/100\n",
      "33097/33097 [==============================] - 10s 309us/sample - loss: 0.5315 - acc: 0.7400\n",
      "Epoch 86/100\n",
      "33097/33097 [==============================] - 10s 300us/sample - loss: 0.5314 - acc: 0.7390\n",
      "Epoch 87/100\n",
      "33097/33097 [==============================] - 9s 284us/sample - loss: 0.5302 - acc: 0.7400\n",
      "Epoch 88/100\n",
      "33097/33097 [==============================] - 9s 284us/sample - loss: 0.5304 - acc: 0.7383\n",
      "Epoch 89/100\n",
      "33097/33097 [==============================] - 10s 287us/sample - loss: 0.5299 - acc: 0.7389\n",
      "Epoch 90/100\n",
      "33097/33097 [==============================] - 9s 287us/sample - loss: 0.5292 - acc: 0.7389\n",
      "Epoch 91/100\n",
      "33097/33097 [==============================] - 10s 290us/sample - loss: 0.5295 - acc: 0.7411\n",
      "Epoch 92/100\n",
      "33097/33097 [==============================] - 10s 292us/sample - loss: 0.5290 - acc: 0.7400\n",
      "Epoch 93/100\n",
      "33097/33097 [==============================] - 10s 293us/sample - loss: 0.5286 - acc: 0.7407\n",
      "Epoch 94/100\n",
      "33097/33097 [==============================] - 10s 290us/sample - loss: 0.5285 - acc: 0.7402\n",
      "Epoch 95/100\n",
      "33097/33097 [==============================] - 10s 290us/sample - loss: 0.5276 - acc: 0.7404\n",
      "Epoch 96/100\n",
      "33097/33097 [==============================] - 10s 288us/sample - loss: 0.5269 - acc: 0.7416\n",
      "Epoch 97/100\n",
      "33097/33097 [==============================] - 10s 289us/sample - loss: 0.5266 - acc: 0.7412\n",
      "Epoch 98/100\n",
      "33097/33097 [==============================] - 9s 285us/sample - loss: 0.5275 - acc: 0.7401\n",
      "Epoch 99/100\n",
      "33097/33097 [==============================] - 9s 285us/sample - loss: 0.5256 - acc: 0.7413\n",
      "Epoch 100/100\n",
      "33097/33097 [==============================] - 9s 287us/sample - loss: 0.5277 - acc: 0.7412\n",
      "33096/33096 [==============================] - 3s 76us/sample - loss: 0.5869 - acc: 0.7178\n"
     ]
    },
    {
     "data": {
      "text/plain": [
       "0.7196530997753143"
      ]
     },
     "execution_count": 110,
     "metadata": {
      "tags": []
     },
     "output_type": "execute_result"
    }
   ],
   "source": [
    "from tensorflow.keras.wrappers.scikit_learn import KerasClassifier\n",
    "\n",
    "# Wrap our Keras model in an estimator compatible with scikit_learn\n",
    "estimator = KerasClassifier(build_fn=create_model, epochs=100, verbose=1)\n",
    "# Now we can use scikit_learn's cross_val_score to evaluate this model identically to the others\n",
    "cv_scores = cross_val_score(estimator,features_tree, all_classes, cv=2)\n",
    "cv_scores.mean()"
   ]
  }
 ],
 "metadata": {
  "colab": {
   "collapsed_sections": [],
   "name": "lr.ipynb",
   "provenance": [],
   "version": "0.3.2"
  },
  "kernelspec": {
   "display_name": "Python 3",
   "language": "python",
   "name": "python3"
  },
  "language_info": {
   "codemirror_mode": {
    "name": "ipython",
    "version": 3
   },
   "file_extension": ".py",
   "mimetype": "text/x-python",
   "name": "python",
   "nbconvert_exporter": "python",
   "pygments_lexer": "ipython3",
   "version": "3.6.5"
  }
 },
 "nbformat": 4,
 "nbformat_minor": 1
}
