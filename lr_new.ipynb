{
 "cells": [
  {
   "cell_type": "markdown",
   "metadata": {},
   "source": [
    "### The target class \"cardio\" equals to 1, when patient has cardiovascular desease, and it's 0, if patient is healthy."
   ]
  },
  {
   "cell_type": "code",
   "execution_count": 1,
   "metadata": {
    "scrolled": true
   },
   "outputs": [
    {
     "data": {
      "text/html": [
       "<div>\n",
       "<style scoped>\n",
       "    .dataframe tbody tr th:only-of-type {\n",
       "        vertical-align: middle;\n",
       "    }\n",
       "\n",
       "    .dataframe tbody tr th {\n",
       "        vertical-align: top;\n",
       "    }\n",
       "\n",
       "    .dataframe thead th {\n",
       "        text-align: right;\n",
       "    }\n",
       "</style>\n",
       "<table border=\"1\" class=\"dataframe\">\n",
       "  <thead>\n",
       "    <tr style=\"text-align: right;\">\n",
       "      <th></th>\n",
       "      <th>id</th>\n",
       "      <th>age</th>\n",
       "      <th>gender</th>\n",
       "      <th>height</th>\n",
       "      <th>weight</th>\n",
       "      <th>ap_hi</th>\n",
       "      <th>ap_lo</th>\n",
       "      <th>cholesterol</th>\n",
       "      <th>gluc</th>\n",
       "      <th>smoke</th>\n",
       "      <th>alco</th>\n",
       "      <th>active</th>\n",
       "      <th>cardio</th>\n",
       "    </tr>\n",
       "  </thead>\n",
       "  <tbody>\n",
       "    <tr>\n",
       "      <th>0</th>\n",
       "      <td>0</td>\n",
       "      <td>18393</td>\n",
       "      <td>2</td>\n",
       "      <td>168</td>\n",
       "      <td>62.0</td>\n",
       "      <td>110</td>\n",
       "      <td>80</td>\n",
       "      <td>1</td>\n",
       "      <td>1</td>\n",
       "      <td>0</td>\n",
       "      <td>0</td>\n",
       "      <td>1</td>\n",
       "      <td>0</td>\n",
       "    </tr>\n",
       "    <tr>\n",
       "      <th>1</th>\n",
       "      <td>1</td>\n",
       "      <td>20228</td>\n",
       "      <td>1</td>\n",
       "      <td>156</td>\n",
       "      <td>85.0</td>\n",
       "      <td>140</td>\n",
       "      <td>90</td>\n",
       "      <td>3</td>\n",
       "      <td>1</td>\n",
       "      <td>0</td>\n",
       "      <td>0</td>\n",
       "      <td>1</td>\n",
       "      <td>1</td>\n",
       "    </tr>\n",
       "    <tr>\n",
       "      <th>2</th>\n",
       "      <td>2</td>\n",
       "      <td>18857</td>\n",
       "      <td>1</td>\n",
       "      <td>165</td>\n",
       "      <td>64.0</td>\n",
       "      <td>130</td>\n",
       "      <td>70</td>\n",
       "      <td>3</td>\n",
       "      <td>1</td>\n",
       "      <td>0</td>\n",
       "      <td>0</td>\n",
       "      <td>0</td>\n",
       "      <td>1</td>\n",
       "    </tr>\n",
       "    <tr>\n",
       "      <th>3</th>\n",
       "      <td>3</td>\n",
       "      <td>17623</td>\n",
       "      <td>2</td>\n",
       "      <td>169</td>\n",
       "      <td>82.0</td>\n",
       "      <td>150</td>\n",
       "      <td>100</td>\n",
       "      <td>1</td>\n",
       "      <td>1</td>\n",
       "      <td>0</td>\n",
       "      <td>0</td>\n",
       "      <td>1</td>\n",
       "      <td>1</td>\n",
       "    </tr>\n",
       "    <tr>\n",
       "      <th>4</th>\n",
       "      <td>4</td>\n",
       "      <td>17474</td>\n",
       "      <td>1</td>\n",
       "      <td>156</td>\n",
       "      <td>56.0</td>\n",
       "      <td>100</td>\n",
       "      <td>60</td>\n",
       "      <td>1</td>\n",
       "      <td>1</td>\n",
       "      <td>0</td>\n",
       "      <td>0</td>\n",
       "      <td>0</td>\n",
       "      <td>0</td>\n",
       "    </tr>\n",
       "  </tbody>\n",
       "</table>\n",
       "</div>"
      ],
      "text/plain": [
       "   id    age  gender  height  weight  ap_hi  ap_lo  cholesterol  gluc  smoke  \\\n",
       "0   0  18393       2     168    62.0    110     80            1     1      0   \n",
       "1   1  20228       1     156    85.0    140     90            3     1      0   \n",
       "2   2  18857       1     165    64.0    130     70            3     1      0   \n",
       "3   3  17623       2     169    82.0    150    100            1     1      0   \n",
       "4   4  17474       1     156    56.0    100     60            1     1      0   \n",
       "\n",
       "   alco  active  cardio  \n",
       "0     0       1       0  \n",
       "1     0       1       1  \n",
       "2     0       0       1  \n",
       "3     0       1       1  \n",
       "4     0       0       0  "
      ]
     },
     "execution_count": 1,
     "metadata": {},
     "output_type": "execute_result"
    }
   ],
   "source": [
    "import pandas as pd                                                               #loading dataset\n",
    "df= pd.read_csv('E:\\cardiovascular-disease-dataset\\cardio_train.csv',sep=';')\n",
    "df.head()"
   ]
  },
  {
   "cell_type": "code",
   "execution_count": 3,
   "metadata": {},
   "outputs": [],
   "source": [
    "df = df[:1000]"
   ]
  },
  {
   "cell_type": "code",
   "execution_count": 4,
   "metadata": {},
   "outputs": [
    {
     "name": "stdout",
     "output_type": "stream",
     "text": [
      "<class 'pandas.core.frame.DataFrame'>\n",
      "RangeIndex: 1000 entries, 0 to 999\n",
      "Data columns (total 13 columns):\n",
      "id             1000 non-null int64\n",
      "age            1000 non-null int64\n",
      "gender         1000 non-null int64\n",
      "height         1000 non-null int64\n",
      "weight         1000 non-null float64\n",
      "ap_hi          1000 non-null int64\n",
      "ap_lo          1000 non-null int64\n",
      "cholesterol    1000 non-null int64\n",
      "gluc           1000 non-null int64\n",
      "smoke          1000 non-null int64\n",
      "alco           1000 non-null int64\n",
      "active         1000 non-null int64\n",
      "cardio         1000 non-null int64\n",
      "dtypes: float64(1), int64(12)\n",
      "memory usage: 101.6 KB\n"
     ]
    }
   ],
   "source": [
    "df.info()"
   ]
  },
  {
   "cell_type": "code",
   "execution_count": 5,
   "metadata": {},
   "outputs": [],
   "source": [
    "from matplotlib import pyplot as plt\n",
    "%matplotlib inline\n",
    "import seaborn as sns"
   ]
  },
  {
   "cell_type": "code",
   "execution_count": 6,
   "metadata": {
    "scrolled": true
   },
   "outputs": [
    {
     "data": {
      "text/html": [
       "<div>\n",
       "<style scoped>\n",
       "    .dataframe tbody tr th:only-of-type {\n",
       "        vertical-align: middle;\n",
       "    }\n",
       "\n",
       "    .dataframe tbody tr th {\n",
       "        vertical-align: top;\n",
       "    }\n",
       "\n",
       "    .dataframe thead th {\n",
       "        text-align: right;\n",
       "    }\n",
       "</style>\n",
       "<table border=\"1\" class=\"dataframe\">\n",
       "  <thead>\n",
       "    <tr style=\"text-align: right;\">\n",
       "      <th></th>\n",
       "      <th>id</th>\n",
       "      <th>age</th>\n",
       "      <th>gender</th>\n",
       "      <th>height</th>\n",
       "      <th>weight</th>\n",
       "      <th>ap_hi</th>\n",
       "      <th>ap_lo</th>\n",
       "      <th>cholesterol</th>\n",
       "      <th>gluc</th>\n",
       "      <th>smoke</th>\n",
       "      <th>alco</th>\n",
       "      <th>active</th>\n",
       "      <th>cardio</th>\n",
       "    </tr>\n",
       "  </thead>\n",
       "  <tbody>\n",
       "    <tr>\n",
       "      <th>count</th>\n",
       "      <td>1000.000000</td>\n",
       "      <td>1000.00000</td>\n",
       "      <td>1000.000000</td>\n",
       "      <td>1000.000000</td>\n",
       "      <td>1000.000000</td>\n",
       "      <td>1000.000000</td>\n",
       "      <td>1000.000000</td>\n",
       "      <td>1000.000000</td>\n",
       "      <td>1000.000000</td>\n",
       "      <td>1000.000000</td>\n",
       "      <td>1000.00000</td>\n",
       "      <td>1000.000000</td>\n",
       "      <td>1000.000000</td>\n",
       "    </tr>\n",
       "    <tr>\n",
       "      <th>mean</th>\n",
       "      <td>701.971000</td>\n",
       "      <td>19431.52100</td>\n",
       "      <td>1.359000</td>\n",
       "      <td>164.102000</td>\n",
       "      <td>74.734300</td>\n",
       "      <td>127.463000</td>\n",
       "      <td>92.655000</td>\n",
       "      <td>1.393000</td>\n",
       "      <td>1.241000</td>\n",
       "      <td>0.095000</td>\n",
       "      <td>0.04600</td>\n",
       "      <td>0.778000</td>\n",
       "      <td>0.507000</td>\n",
       "    </tr>\n",
       "    <tr>\n",
       "      <th>std</th>\n",
       "      <td>405.450658</td>\n",
       "      <td>2521.04067</td>\n",
       "      <td>0.479947</td>\n",
       "      <td>8.363704</td>\n",
       "      <td>15.259966</td>\n",
       "      <td>18.106918</td>\n",
       "      <td>102.072635</td>\n",
       "      <td>0.697881</td>\n",
       "      <td>0.589293</td>\n",
       "      <td>0.293362</td>\n",
       "      <td>0.20959</td>\n",
       "      <td>0.415799</td>\n",
       "      <td>0.500201</td>\n",
       "    </tr>\n",
       "    <tr>\n",
       "      <th>min</th>\n",
       "      <td>0.000000</td>\n",
       "      <td>14321.00000</td>\n",
       "      <td>1.000000</td>\n",
       "      <td>76.000000</td>\n",
       "      <td>41.000000</td>\n",
       "      <td>11.000000</td>\n",
       "      <td>30.000000</td>\n",
       "      <td>1.000000</td>\n",
       "      <td>1.000000</td>\n",
       "      <td>0.000000</td>\n",
       "      <td>0.00000</td>\n",
       "      <td>0.000000</td>\n",
       "      <td>0.000000</td>\n",
       "    </tr>\n",
       "    <tr>\n",
       "      <th>25%</th>\n",
       "      <td>343.750000</td>\n",
       "      <td>17509.50000</td>\n",
       "      <td>1.000000</td>\n",
       "      <td>159.000000</td>\n",
       "      <td>65.000000</td>\n",
       "      <td>120.000000</td>\n",
       "      <td>80.000000</td>\n",
       "      <td>1.000000</td>\n",
       "      <td>1.000000</td>\n",
       "      <td>0.000000</td>\n",
       "      <td>0.00000</td>\n",
       "      <td>1.000000</td>\n",
       "      <td>0.000000</td>\n",
       "    </tr>\n",
       "    <tr>\n",
       "      <th>50%</th>\n",
       "      <td>717.000000</td>\n",
       "      <td>19666.00000</td>\n",
       "      <td>1.000000</td>\n",
       "      <td>164.000000</td>\n",
       "      <td>72.000000</td>\n",
       "      <td>120.000000</td>\n",
       "      <td>80.000000</td>\n",
       "      <td>1.000000</td>\n",
       "      <td>1.000000</td>\n",
       "      <td>0.000000</td>\n",
       "      <td>0.00000</td>\n",
       "      <td>1.000000</td>\n",
       "      <td>1.000000</td>\n",
       "    </tr>\n",
       "    <tr>\n",
       "      <th>75%</th>\n",
       "      <td>1049.250000</td>\n",
       "      <td>21367.25000</td>\n",
       "      <td>2.000000</td>\n",
       "      <td>170.000000</td>\n",
       "      <td>84.000000</td>\n",
       "      <td>140.000000</td>\n",
       "      <td>90.000000</td>\n",
       "      <td>2.000000</td>\n",
       "      <td>1.000000</td>\n",
       "      <td>0.000000</td>\n",
       "      <td>0.00000</td>\n",
       "      <td>1.000000</td>\n",
       "      <td>1.000000</td>\n",
       "    </tr>\n",
       "    <tr>\n",
       "      <th>max</th>\n",
       "      <td>1387.000000</td>\n",
       "      <td>23661.00000</td>\n",
       "      <td>2.000000</td>\n",
       "      <td>188.000000</td>\n",
       "      <td>200.000000</td>\n",
       "      <td>200.000000</td>\n",
       "      <td>1100.000000</td>\n",
       "      <td>3.000000</td>\n",
       "      <td>3.000000</td>\n",
       "      <td>1.000000</td>\n",
       "      <td>1.00000</td>\n",
       "      <td>1.000000</td>\n",
       "      <td>1.000000</td>\n",
       "    </tr>\n",
       "  </tbody>\n",
       "</table>\n",
       "</div>"
      ],
      "text/plain": [
       "                id          age       gender       height       weight  \\\n",
       "count  1000.000000   1000.00000  1000.000000  1000.000000  1000.000000   \n",
       "mean    701.971000  19431.52100     1.359000   164.102000    74.734300   \n",
       "std     405.450658   2521.04067     0.479947     8.363704    15.259966   \n",
       "min       0.000000  14321.00000     1.000000    76.000000    41.000000   \n",
       "25%     343.750000  17509.50000     1.000000   159.000000    65.000000   \n",
       "50%     717.000000  19666.00000     1.000000   164.000000    72.000000   \n",
       "75%    1049.250000  21367.25000     2.000000   170.000000    84.000000   \n",
       "max    1387.000000  23661.00000     2.000000   188.000000   200.000000   \n",
       "\n",
       "             ap_hi        ap_lo  cholesterol         gluc        smoke  \\\n",
       "count  1000.000000  1000.000000  1000.000000  1000.000000  1000.000000   \n",
       "mean    127.463000    92.655000     1.393000     1.241000     0.095000   \n",
       "std      18.106918   102.072635     0.697881     0.589293     0.293362   \n",
       "min      11.000000    30.000000     1.000000     1.000000     0.000000   \n",
       "25%     120.000000    80.000000     1.000000     1.000000     0.000000   \n",
       "50%     120.000000    80.000000     1.000000     1.000000     0.000000   \n",
       "75%     140.000000    90.000000     2.000000     1.000000     0.000000   \n",
       "max     200.000000  1100.000000     3.000000     3.000000     1.000000   \n",
       "\n",
       "             alco       active       cardio  \n",
       "count  1000.00000  1000.000000  1000.000000  \n",
       "mean      0.04600     0.778000     0.507000  \n",
       "std       0.20959     0.415799     0.500201  \n",
       "min       0.00000     0.000000     0.000000  \n",
       "25%       0.00000     1.000000     0.000000  \n",
       "50%       0.00000     1.000000     1.000000  \n",
       "75%       0.00000     1.000000     1.000000  \n",
       "max       1.00000     1.000000     1.000000  "
      ]
     },
     "execution_count": 6,
     "metadata": {},
     "output_type": "execute_result"
    }
   ],
   "source": [
    "df.describe()"
   ]
  },
  {
   "cell_type": "code",
   "execution_count": 7,
   "metadata": {},
   "outputs": [
    {
     "data": {
      "text/plain": [
       "False"
      ]
     },
     "execution_count": 7,
     "metadata": {},
     "output_type": "execute_result"
    }
   ],
   "source": [
    "df.isnull().values.any()"
   ]
  },
  {
   "cell_type": "code",
   "execution_count": 8,
   "metadata": {},
   "outputs": [
    {
     "data": {
      "image/png": "[encoded data removed]",
      "text/plain": [
       "<Figure size 792x576 with 1 Axes>"
      ]
     },
     "metadata": {},
     "output_type": "display_data"
    }
   ],
   "source": [
    "from matplotlib import rcParams                                     #people above 55 have high risk of cardiovascular diseases\n",
    "import seaborn as sns\n",
    "rcParams['figure.figsize'] = 11, 8\n",
    "df['years'] = (df['age'] / 365).round().astype('int')\n",
    "sns.countplot(x='years', hue='cardio', data = df, palette=\"Set2\");"
   ]
  },
  {
   "cell_type": "code",
   "execution_count": 9,
   "metadata": {
    "scrolled": true
   },
   "outputs": [
    {
     "data": {
      "image/png": "[encoded data removed]",
      "text/plain": [
       "<Figure size 792x576 with 1 Axes>"
      ]
     },
     "metadata": {},
     "output_type": "display_data"
    }
   ],
   "source": [
    "df_categorical = df.loc[:,['cholesterol','gluc', 'smoke', 'alco', 'active']]\n",
    "sns.countplot(x=\"variable\", hue=\"value\",data= pd.melt(df_categorical));"
   ]
  },
  {
   "cell_type": "code",
   "execution_count": 10,
   "metadata": {},
   "outputs": [
    {
     "data": {
      "image/png": "[encoded data removed]",
      "text/plain": [
       "<Figure size 762.375x360 with 2 Axes>"
      ]
     },
     "metadata": {},
     "output_type": "display_data"
    }
   ],
   "source": [
    "df_long = pd.melt(df, id_vars=['cardio'], value_vars=['cholesterol','gluc', 'smoke', 'alco', 'active'])\n",
    "sns.catplot(x=\"variable\", hue=\"value\", col='cardio',data=df_long, kind=\"count\");"
   ]
  },
  {
   "cell_type": "code",
   "execution_count": 11,
   "metadata": {},
   "outputs": [
    {
     "data": {
      "text/plain": [
       "<matplotlib.axes._subplots.AxesSubplot at 0x1c1f63c6eb8>"
      ]
     },
     "execution_count": 11,
     "metadata": {},
     "output_type": "execute_result"
    },
    {
     "data": {
      "image/png": "[encoded data removed]",
      "text/plain": [
       "<Figure size 720x1080 with 2 Axes>"
      ]
     },
     "metadata": {},
     "output_type": "display_data"
    }
   ],
   "source": [
    "df['age'] = (df['age'] / 365).round().astype('int')\n",
    "data=df[['age', 'gender','height', 'weight','ap_hi','ap_lo','cholesterol','gluc','smoke','alco','active','cardio']]\n",
    "data1 = data[data['cardio']==0] # no disease  \n",
    "data1 = data1.iloc[:,:-1]\n",
    "\n",
    "data2 = data[data['cardio']==1] # with disease\n",
    "data2 = data2.iloc[:,:-1]\n",
    "\n",
    "fig = plt.figure(figsize=(10,15))\n",
    "\n",
    "ax1 = fig.add_subplot(211)\n",
    "ax2 = fig.add_subplot(212,sharex=ax1)\n",
    "\n",
    "ax1.grid()\n",
    "ax2.grid()\n",
    "\n",
    "ax1.set_title('Features vs mean values',fontsize=13,weight='bold')\n",
    "ax1.text(200,0.8,'NO DISEASE',fontsize=20,horizontalalignment='center',color='green',weight='bold')\n",
    "\n",
    "\n",
    "ax2.set_title('Features vs mean values',fontsize=13,weight='bold')\n",
    "ax2.text(200,0.8,'DISEASE',fontsize=20,horizontalalignment='center',color='red',weight='bold')\n",
    "\n",
    "# for axis ax1\n",
    "plt.sca(ax1)\n",
    "plt.xticks(rotation = 0, \n",
    "           weight='bold', \n",
    "           family='monospace',\n",
    "           size='large')\n",
    "plt.yticks( weight='bold', \n",
    "           family='monospace',\n",
    "           size='large')\n",
    "# for axis ax2\n",
    "plt.sca(ax2)\n",
    "plt.xticks(rotation = 0, \n",
    "           weight='bold', \n",
    "           family='monospace',\n",
    "           size='large')\n",
    "plt.yticks( weight='bold', \n",
    "           family='monospace',\n",
    "           size='large')\n",
    "\n",
    "# sns.set_style('whitegrid')\n",
    "\n",
    "sns.barplot(data=data1,ax=ax1,orient='horizontal', palette='bright') # no disease\n",
    "sns.barplot(data=data2,ax=ax2,orient='horizontal',palette='bright',saturation=0.80) # with disease"
   ]
  },
  {
   "cell_type": "code",
   "execution_count": 12,
   "metadata": {},
   "outputs": [
    {
     "data": {
      "text/html": [
       "<div>\n",
       "<style scoped>\n",
       "    .dataframe tbody tr th:only-of-type {\n",
       "        vertical-align: middle;\n",
       "    }\n",
       "\n",
       "    .dataframe tbody tr th {\n",
       "        vertical-align: top;\n",
       "    }\n",
       "\n",
       "    .dataframe thead th {\n",
       "        text-align: right;\n",
       "    }\n",
       "</style>\n",
       "<table border=\"1\" class=\"dataframe\">\n",
       "  <thead>\n",
       "    <tr style=\"text-align: right;\">\n",
       "      <th></th>\n",
       "      <th>age</th>\n",
       "      <th>gender</th>\n",
       "      <th>height</th>\n",
       "      <th>weight</th>\n",
       "      <th>ap_hi</th>\n",
       "      <th>ap_lo</th>\n",
       "      <th>cholesterol</th>\n",
       "      <th>gluc</th>\n",
       "      <th>smoke</th>\n",
       "      <th>alco</th>\n",
       "      <th>active</th>\n",
       "      <th>cardio</th>\n",
       "    </tr>\n",
       "  </thead>\n",
       "  <tbody>\n",
       "    <tr>\n",
       "      <th>0</th>\n",
       "      <td>50</td>\n",
       "      <td>2</td>\n",
       "      <td>168</td>\n",
       "      <td>62.0</td>\n",
       "      <td>110</td>\n",
       "      <td>80</td>\n",
       "      <td>1</td>\n",
       "      <td>1</td>\n",
       "      <td>0</td>\n",
       "      <td>0</td>\n",
       "      <td>1</td>\n",
       "      <td>0</td>\n",
       "    </tr>\n",
       "    <tr>\n",
       "      <th>1</th>\n",
       "      <td>55</td>\n",
       "      <td>1</td>\n",
       "      <td>156</td>\n",
       "      <td>85.0</td>\n",
       "      <td>140</td>\n",
       "      <td>90</td>\n",
       "      <td>3</td>\n",
       "      <td>1</td>\n",
       "      <td>0</td>\n",
       "      <td>0</td>\n",
       "      <td>1</td>\n",
       "      <td>1</td>\n",
       "    </tr>\n",
       "    <tr>\n",
       "      <th>2</th>\n",
       "      <td>52</td>\n",
       "      <td>1</td>\n",
       "      <td>165</td>\n",
       "      <td>64.0</td>\n",
       "      <td>130</td>\n",
       "      <td>70</td>\n",
       "      <td>3</td>\n",
       "      <td>1</td>\n",
       "      <td>0</td>\n",
       "      <td>0</td>\n",
       "      <td>0</td>\n",
       "      <td>1</td>\n",
       "    </tr>\n",
       "    <tr>\n",
       "      <th>3</th>\n",
       "      <td>48</td>\n",
       "      <td>2</td>\n",
       "      <td>169</td>\n",
       "      <td>82.0</td>\n",
       "      <td>150</td>\n",
       "      <td>100</td>\n",
       "      <td>1</td>\n",
       "      <td>1</td>\n",
       "      <td>0</td>\n",
       "      <td>0</td>\n",
       "      <td>1</td>\n",
       "      <td>1</td>\n",
       "    </tr>\n",
       "    <tr>\n",
       "      <th>4</th>\n",
       "      <td>48</td>\n",
       "      <td>1</td>\n",
       "      <td>156</td>\n",
       "      <td>56.0</td>\n",
       "      <td>100</td>\n",
       "      <td>60</td>\n",
       "      <td>1</td>\n",
       "      <td>1</td>\n",
       "      <td>0</td>\n",
       "      <td>0</td>\n",
       "      <td>0</td>\n",
       "      <td>0</td>\n",
       "    </tr>\n",
       "  </tbody>\n",
       "</table>\n",
       "</div>"
      ],
      "text/plain": [
       "   age  gender  height  weight  ap_hi  ap_lo  cholesterol  gluc  smoke  alco  \\\n",
       "0   50       2     168    62.0    110     80            1     1      0     0   \n",
       "1   55       1     156    85.0    140     90            3     1      0     0   \n",
       "2   52       1     165    64.0    130     70            3     1      0     0   \n",
       "3   48       2     169    82.0    150    100            1     1      0     0   \n",
       "4   48       1     156    56.0    100     60            1     1      0     0   \n",
       "\n",
       "   active  cardio  \n",
       "0       1       0  \n",
       "1       1       1  \n",
       "2       0       1  \n",
       "3       1       1  \n",
       "4       0       0  "
      ]
     },
     "execution_count": 12,
     "metadata": {},
     "output_type": "execute_result"
    }
   ],
   "source": [
    "data.head()"
   ]
  },
  {
   "cell_type": "code",
   "execution_count": 13,
   "metadata": {
    "scrolled": true
   },
   "outputs": [
    {
     "data": {
      "text/plain": [
       "[None, None, None, None]"
      ]
     },
     "execution_count": 13,
     "metadata": {},
     "output_type": "execute_result"
    },
    {
     "data": {
      "image/png": "[encoded data removed]",
      "text/plain": [
       "<Figure size 1080x432 with 2 Axes>"
      ]
     },
     "metadata": {},
     "output_type": "display_data"
    }
   ],
   "source": [
    "fig= plt.figure(figsize=(15,6)) \n",
    "ax1 = fig.add_subplot(121)\n",
    "ax2 = fig.add_subplot(122)\n",
    "\n",
    "only_gender = data['gender']\n",
    " \n",
    "male_tot = only_gender[only_gender==2]                  #since 2 denotes men\n",
    "\n",
    "no_of_male = len(male_tot)\n",
    "no_of_female = len(data) - len(male_tot)\n",
    "\n",
    "m_vs_f = [no_of_male,no_of_female]\n",
    "\n",
    "\n",
    "with_disease = data[data['cardio']==1]\n",
    "not_with_disease = data[data['cardio']==0]\n",
    "\n",
    "with_disease = with_disease['gender']\n",
    "\n",
    "no_of_diseased = len(with_disease)\n",
    "no_of_not_diseased = len(data) - len(with_disease)\n",
    "\n",
    "d_vs_healthy = [no_of_diseased,no_of_not_diseased]\n",
    "\n",
    "\n",
    "'''\n",
    "By default, plots have more pixels along one axis over the other.\n",
    "When you add a circle, it's traditionally added in data units. \n",
    "If your axes have a symmetric range, that means one step along the x axis \n",
    "will involve a different number of pixels than one step along your y axis. \n",
    "So a symmetric circle in data units is asymmetric in your Pixel units (what you actually see).\n",
    "'''\n",
    "\n",
    "# you can force the x and y axes to have equal number of pixels per data unit. \n",
    "# This is done using the plt.axis(\"equal\") or ax.axis(\"equal\") methods \n",
    "# (where ax is an instance of an Axes). \n",
    "\n",
    "ax1.axis('equal')\n",
    "ax2.axis('equal')\n",
    "\n",
    "# pie plot\n",
    "wedges, texts, autotexts= ax1.pie(m_vs_f, \n",
    "                                  labels=('Male','Female'),\n",
    "                                  radius=1,\n",
    "                                  textprops=dict(color='k'),\n",
    "                                  colors=['xkcd:ocean blue','xkcd:dark pink'],\n",
    "                                  autopct=\"%1.1f%%\")\n",
    "\n",
    "# pie plot\n",
    "wedges2, texts2, autotexts2 = ax2.pie(d_vs_healthy, \n",
    "                                  labels=('Diseased','Not Diseased'),\n",
    "                                  radius=1,\n",
    "                                  textprops=dict(color='k'),\n",
    "                                  colors=['#d95f02','#1b9e77'],\n",
    "                                  autopct=\"%1.1f%%\")\n",
    "\n",
    "\n",
    "plt.setp(autotexts,size=20)\n",
    "plt.setp(texts,size=20)\n",
    "plt.setp(autotexts2,size=20)\n",
    "plt.setp(texts2,size=20)\n",
    "#print(m_vs_f)"
   ]
  },
  {
   "cell_type": "code",
   "execution_count": 14,
   "metadata": {},
   "outputs": [
    {
     "data": {
      "text/plain": [
       "Text(0,0.04,'Female')"
      ]
     },
     "execution_count": 14,
     "metadata": {},
     "output_type": "execute_result"
    },
    {
     "data": {
      "image/png": "[encoded data removed]",
      "text/plain": [
       "<Figure size 1080x432 with 2 Axes>"
      ]
     },
     "metadata": {},
     "output_type": "display_data"
    }
   ],
   "source": [
    "fig= plt.figure(figsize=(15,6))\n",
    "ax1 = fig.add_subplot(121)\n",
    "ax2 = fig.add_subplot(122)\n",
    "\n",
    "with_disease = data[data['cardio']==1]\n",
    "not_with_disease = data[data['cardio']==0]\n",
    "\n",
    "with_disease_m = with_disease[with_disease['gender']==2]\n",
    "with_disease_m = with_disease['gender']\n",
    "not_with_disease_m = not_with_disease[not_with_disease['gender']==2]\n",
    "not_with_disease_m = not_with_disease['gender']\n",
    "\n",
    "with_disease_f = with_disease[with_disease['gender']==1]\n",
    "not_with_disease_f = not_with_disease[not_with_disease['gender']==1]\n",
    "\n",
    "no_of_diseased_m = len(with_disease_m)\n",
    "no_of_not_diseased_m = len(not_with_disease_m)\n",
    "\n",
    "no_of_diseased_f = len(with_disease_f)\n",
    "no_of_not_diseased_f = len(not_with_disease_f)\n",
    "\n",
    "d_vs_healthy_m = [no_of_diseased_m, no_of_not_diseased_m]\n",
    "d_vs_healthy_f = [no_of_diseased_f, no_of_not_diseased_f]\n",
    "\n",
    "ax1.axis('equal')\n",
    "ax2.axis('equal')\n",
    "# pie plot\n",
    "\n",
    "wedges, texts, autotexts = ax1.pie(d_vs_healthy_m, \n",
    "                                  labels=('Diseased','Not Diseased'),\n",
    "                                  radius=1,\n",
    "                                  textprops=dict(color='k'),\n",
    "                                  colors=['#f46d43','#4575b4'],\n",
    "                                  autopct=\"%1.1f%%\")\n",
    "\n",
    "wedges2, texts2, autotexts2 = ax2.pie(d_vs_healthy_f, \n",
    "                                  labels=('Diseased','Not Diseased'),\n",
    "                                  radius=1,\n",
    "                                  textprops=dict(color='k'),\n",
    "                                  colors=['#f46d43','#4575b4'],\n",
    "                                  autopct=\"%1.1f%%\")\n",
    "\n",
    "plt.setp(autotexts,size=20)\n",
    "plt.setp(texts,size=20)\n",
    "\n",
    "plt.setp(autotexts2,size=20)\n",
    "plt.setp(texts2,size=20)\n",
    "\n",
    "ax1.text(0,0.04,'Male',size=20,color='#f7fcfd',horizontalalignment='center',weight='bold')\n",
    "ax2.text(0,0.04,'Female',size=20,color='#f7fcfd',horizontalalignment='center',weight='bold')"
   ]
  },
  {
   "cell_type": "code",
   "execution_count": 15,
   "metadata": {},
   "outputs": [
    {
     "data": {
      "text/html": [
       "<div>\n",
       "<style scoped>\n",
       "    .dataframe tbody tr th:only-of-type {\n",
       "        vertical-align: middle;\n",
       "    }\n",
       "\n",
       "    .dataframe tbody tr th {\n",
       "        vertical-align: top;\n",
       "    }\n",
       "\n",
       "    .dataframe thead th {\n",
       "        text-align: right;\n",
       "    }\n",
       "</style>\n",
       "<table border=\"1\" class=\"dataframe\">\n",
       "  <thead>\n",
       "    <tr style=\"text-align: right;\">\n",
       "      <th></th>\n",
       "      <th>age</th>\n",
       "      <th>gender</th>\n",
       "      <th>height</th>\n",
       "      <th>weight</th>\n",
       "      <th>ap_hi</th>\n",
       "      <th>ap_lo</th>\n",
       "      <th>cholesterol</th>\n",
       "      <th>gluc</th>\n",
       "      <th>smoke</th>\n",
       "      <th>alco</th>\n",
       "      <th>active</th>\n",
       "      <th>cardio</th>\n",
       "    </tr>\n",
       "  </thead>\n",
       "  <tbody>\n",
       "    <tr>\n",
       "      <th>0</th>\n",
       "      <td>50</td>\n",
       "      <td>2</td>\n",
       "      <td>168</td>\n",
       "      <td>62.0</td>\n",
       "      <td>110</td>\n",
       "      <td>80</td>\n",
       "      <td>1</td>\n",
       "      <td>1</td>\n",
       "      <td>0</td>\n",
       "      <td>0</td>\n",
       "      <td>1</td>\n",
       "      <td>0</td>\n",
       "    </tr>\n",
       "    <tr>\n",
       "      <th>1</th>\n",
       "      <td>55</td>\n",
       "      <td>1</td>\n",
       "      <td>156</td>\n",
       "      <td>85.0</td>\n",
       "      <td>140</td>\n",
       "      <td>90</td>\n",
       "      <td>3</td>\n",
       "      <td>1</td>\n",
       "      <td>0</td>\n",
       "      <td>0</td>\n",
       "      <td>1</td>\n",
       "      <td>1</td>\n",
       "    </tr>\n",
       "    <tr>\n",
       "      <th>2</th>\n",
       "      <td>52</td>\n",
       "      <td>1</td>\n",
       "      <td>165</td>\n",
       "      <td>64.0</td>\n",
       "      <td>130</td>\n",
       "      <td>70</td>\n",
       "      <td>3</td>\n",
       "      <td>1</td>\n",
       "      <td>0</td>\n",
       "      <td>0</td>\n",
       "      <td>0</td>\n",
       "      <td>1</td>\n",
       "    </tr>\n",
       "    <tr>\n",
       "      <th>3</th>\n",
       "      <td>48</td>\n",
       "      <td>2</td>\n",
       "      <td>169</td>\n",
       "      <td>82.0</td>\n",
       "      <td>150</td>\n",
       "      <td>100</td>\n",
       "      <td>1</td>\n",
       "      <td>1</td>\n",
       "      <td>0</td>\n",
       "      <td>0</td>\n",
       "      <td>1</td>\n",
       "      <td>1</td>\n",
       "    </tr>\n",
       "    <tr>\n",
       "      <th>4</th>\n",
       "      <td>48</td>\n",
       "      <td>1</td>\n",
       "      <td>156</td>\n",
       "      <td>56.0</td>\n",
       "      <td>100</td>\n",
       "      <td>60</td>\n",
       "      <td>1</td>\n",
       "      <td>1</td>\n",
       "      <td>0</td>\n",
       "      <td>0</td>\n",
       "      <td>0</td>\n",
       "      <td>0</td>\n",
       "    </tr>\n",
       "  </tbody>\n",
       "</table>\n",
       "</div>"
      ],
      "text/plain": [
       "   age  gender  height  weight  ap_hi  ap_lo  cholesterol  gluc  smoke  alco  \\\n",
       "0   50       2     168    62.0    110     80            1     1      0     0   \n",
       "1   55       1     156    85.0    140     90            3     1      0     0   \n",
       "2   52       1     165    64.0    130     70            3     1      0     0   \n",
       "3   48       2     169    82.0    150    100            1     1      0     0   \n",
       "4   48       1     156    56.0    100     60            1     1      0     0   \n",
       "\n",
       "   active  cardio  \n",
       "0       1       0  \n",
       "1       1       1  \n",
       "2       0       1  \n",
       "3       1       1  \n",
       "4       0       0  "
      ]
     },
     "execution_count": 15,
     "metadata": {},
     "output_type": "execute_result"
    }
   ],
   "source": [
    "data.head()"
   ]
  },
  {
   "cell_type": "code",
   "execution_count": 16,
   "metadata": {},
   "outputs": [
    {
     "name": "stdout",
     "output_type": "stream",
     "text": [
      "Diastilic pressure is higher than systolic blood pressure in 17 cases\n"
     ]
    }
   ],
   "source": [
    "print(\"Diastilic pressure is higher than systolic blood pressure in {0} cases\".format(data[data['ap_lo']> data['ap_hi']].shape[0]))"
   ]
  },
  {
   "cell_type": "code",
   "execution_count": 17,
   "metadata": {},
   "outputs": [
    {
     "name": "stdout",
     "output_type": "stream",
     "text": [
      "Diastilic pressure is higher than systolic blood pressure in 0 cases\n"
     ]
    },
    {
     "name": "stderr",
     "output_type": "stream",
     "text": [
      "C:\\Users\\pande\\Anaconda3\\lib\\site-packages\\pandas\\core\\frame.py:3694: SettingWithCopyWarning: \n",
      "A value is trying to be set on a copy of a slice from a DataFrame\n",
      "\n",
      "See the caveats in the documentation: http://pandas.pydata.org/pandas-docs/stable/indexing.html#indexing-view-versus-copy\n",
      "  errors=errors)\n"
     ]
    }
   ],
   "source": [
    "data.drop(data[(data['ap_hi'] > data['ap_hi'].quantile(0.975)) | (data['ap_hi'] < data['ap_hi'].quantile(0.025))].index,inplace=True)\n",
    "data.drop(data[(data['ap_lo'] > data['ap_lo'].quantile(0.975)) | (data['ap_lo'] < data['ap_lo'].quantile(0.025))].index,inplace=True)\n",
    "print(\"Diastilic pressure is higher than systolic blood pressure in {0} cases\".format(data[data['ap_lo']> data['ap_hi']].shape[0]))"
   ]
  },
  {
   "cell_type": "code",
   "execution_count": 18,
   "metadata": {},
   "outputs": [],
   "source": [
    "data=(data-data.min())/(data.max()-data.min())"
   ]
  },
  {
   "cell_type": "markdown",
   "metadata": {},
   "source": [
    "### Feature selection"
   ]
  },
  {
   "cell_type": "code",
   "execution_count": 19,
   "metadata": {},
   "outputs": [],
   "source": [
    "import pandas\n",
    "import numpy\n",
    "from sklearn.feature_selection import SelectKBest\n",
    "from sklearn.feature_selection import chi2"
   ]
  },
  {
   "cell_type": "code",
   "execution_count": 20,
   "metadata": {},
   "outputs": [
    {
     "ename": "NameError",
     "evalue": "name 'all_feat' is not defined",
     "output_type": "error",
     "traceback": [
      "\u001b[1;31m---------------------------------------------------------------------------\u001b[0m",
      "\u001b[1;31mNameError\u001b[0m                                 Traceback (most recent call last)",
      "\u001b[1;32m<ipython-input-20-129996617d39>\u001b[0m in \u001b[0;36m<module>\u001b[1;34m()\u001b[0m\n\u001b[0;32m      5\u001b[0m \u001b[1;33m\u001b[0m\u001b[0m\n\u001b[0;32m      6\u001b[0m \u001b[0mfeature_names\u001b[0m \u001b[1;33m=\u001b[0m \u001b[1;33m[\u001b[0m\u001b[1;34m'age'\u001b[0m\u001b[1;33m,\u001b[0m \u001b[1;34m'gender'\u001b[0m\u001b[1;33m,\u001b[0m\u001b[1;34m'height'\u001b[0m\u001b[1;33m,\u001b[0m \u001b[1;34m'weight'\u001b[0m\u001b[1;33m,\u001b[0m\u001b[1;34m'ap_hi'\u001b[0m\u001b[1;33m,\u001b[0m\u001b[1;34m'ap_lo'\u001b[0m\u001b[1;33m,\u001b[0m\u001b[1;34m'cholestrol'\u001b[0m\u001b[1;33m,\u001b[0m\u001b[1;34m'gluc'\u001b[0m\u001b[1;33m,\u001b[0m\u001b[1;34m'smoke'\u001b[0m\u001b[1;33m,\u001b[0m\u001b[1;34m'alco'\u001b[0m\u001b[1;33m,\u001b[0m\u001b[1;34m'active'\u001b[0m\u001b[1;33m]\u001b[0m\u001b[1;33m\u001b[0m\u001b[0m\n\u001b[1;32m----> 7\u001b[1;33m \u001b[0mall_feat\u001b[0m\u001b[1;33m\u001b[0m\u001b[0m\n\u001b[0m",
      "\u001b[1;31mNameError\u001b[0m: name 'all_feat' is not defined"
     ]
    }
   ],
   "source": [
    "\n",
    "all_features = data[['age', 'gender','height', 'weight','ap_hi','ap_lo','cholesterol','gluc','smoke','alco','active']].values\n",
    "\n",
    "all_classes = data['cardio'].values\n",
    "\n",
    "feature_names = ['age', 'gender','height', 'weight','ap_hi','ap_lo','cholestrol','gluc','smoke','alco','active']\n",
    "all_feat"
   ]
  },
  {
   "cell_type": "markdown",
   "metadata": {},
   "source": [
    "### univariate selection"
   ]
  },
  {
   "cell_type": "code",
   "execution_count": 26,
   "metadata": {},
   "outputs": [
    {
     "name": "stdout",
     "output_type": "stream",
     "text": [
      "[7.21288056e+00 2.26106734e+00 1.32902641e-05 7.26533603e-01\n",
      " 2.55472090e+01 1.20412272e+01 4.80171385e+01 9.10339411e+00\n",
      " 9.54690876e-01 4.90470209e-01 6.64216291e-02]\n",
      "[[0.42307692 1.         0.11538462 0.14285714 0.5        0.\n",
      "  0.         0.         0.        ]\n",
      " [0.61538462 0.         0.26282051 0.57142857 0.75       1.\n",
      "  0.         0.         0.        ]\n",
      " [0.5        0.         0.12820513 0.42857143 0.25       1.\n",
      "  0.         0.         0.        ]\n",
      " [0.34615385 1.         0.24358974 0.71428571 1.         0.\n",
      "  0.         0.         0.        ]\n",
      " [0.34615385 0.         0.07692308 0.         0.         0.\n",
      "  0.         0.         0.        ]]\n"
     ]
    }
   ],
   "source": [
    "# feature extraction\n",
    "test = SelectKBest(score_func=chi2, k=9)\n",
    "fit = test.fit(all_features,all_classes)\n",
    "print(fit.scores_)\n",
    "features_univariate = fit.transform(all_features)\n",
    "print(features_univariate[:5,:])"
   ]
  },
  {
   "cell_type": "markdown",
   "metadata": {},
   "source": [
    "## Recursive feature elimination"
   ]
  },
  {
   "cell_type": "code",
   "execution_count": 21,
   "metadata": {},
   "outputs": [
    {
     "name": "stdout",
     "output_type": "stream",
     "text": [
      "Num Features: 9\n",
      "Selected Features: [ True  True  True  True  True  True  True  True False False  True]\n",
      "Feature Ranking: [1 1 1 1 1 1 1 1 3 2 1]\n"
     ]
    }
   ],
   "source": [
    "from sklearn.feature_selection import RFE\n",
    "from sklearn.linear_model import LogisticRegression\n",
    "model = LogisticRegression()\n",
    "rfe = RFE(model,9)\n",
    "fit = rfe.fit(all_features,all_classes)\n",
    "print(\"Num Features: %d\" % (fit.n_features_))\n",
    "print(\"Selected Features: %s\"%(fit.support_))\n",
    "print(\"Feature Ranking: %s\" %(fit.ranking_))\n"
   ]
  },
  {
   "cell_type": "code",
   "execution_count": 22,
   "metadata": {},
   "outputs": [],
   "source": [
    "features_rfe=data[['age','height', 'weight','ap_hi','ap_lo','cholesterol','gluc','alco','active']].values"
   ]
  },
  {
   "cell_type": "code",
   "execution_count": 23,
   "metadata": {},
   "outputs": [
    {
     "name": "stdout",
     "output_type": "stream",
     "text": [
      "[0.16815542 0.02549966 0.15820334 0.18173258 0.18117022 0.13514187\n",
      " 0.06355903 0.03557895 0.00932987 0.01078814 0.03084092]\n"
     ]
    }
   ],
   "source": [
    "from sklearn.ensemble import ExtraTreesClassifier\n",
    "model = ExtraTreesClassifier()\n",
    "model.fit(all_features,all_classes)\n",
    "print(model.feature_importances_)"
   ]
  },
  {
   "cell_type": "code",
   "execution_count": 24,
   "metadata": {},
   "outputs": [],
   "source": [
    "features_tree=data[['age', 'gender','height', 'weight','ap_hi','ap_lo','cholesterol','gluc','active']].values\n",
    "features_tree2=data[['age', 'gender','height', 'weight','ap_hi','ap_lo','cholesterol','gluc']].values"
   ]
  },
  {
   "cell_type": "code",
   "execution_count": 27,
   "metadata": {},
   "outputs": [
    {
     "name": "stderr",
     "output_type": "stream",
     "text": [
      "C:\\Users\\pande\\Anaconda3\\lib\\site-packages\\sklearn\\model_selection\\_split.py:2026: FutureWarning: From version 0.21, test_size will always complement train_size unless both are specified.\n",
      "  FutureWarning)\n"
     ]
    }
   ],
   "source": [
    "import numpy\n",
    "from sklearn.model_selection import train_test_split\n",
    "\n",
    "(training_inputs,\n",
    " testing_inputs,\n",
    " training_classes,\n",
    " testing_classes) = train_test_split(features_univariate, all_classes, train_size=0.75, random_state=0)"
   ]
  },
  {
   "cell_type": "markdown",
   "metadata": {},
   "source": [
    "### Logistic regression"
   ]
  },
  {
   "cell_type": "code",
   "execution_count": 28,
   "metadata": {},
   "outputs": [
    {
     "data": {
      "text/plain": [
       "0.7407838745800672"
      ]
     },
     "execution_count": 28,
     "metadata": {},
     "output_type": "execute_result"
    }
   ],
   "source": [
    "from sklearn.linear_model import LogisticRegression\n",
    "from sklearn.model_selection import cross_val_score\n",
    "clf_uni = LogisticRegression()\n",
    "cv_scores = cross_val_score(clf_uni,features_univariate, all_classes, cv=10)\n",
    "cv_scores.mean()"
   ]
  },
  {
   "cell_type": "code",
   "execution_count": 29,
   "metadata": {},
   "outputs": [
    {
     "data": {
      "text/plain": [
       "0.7387010078387457"
      ]
     },
     "execution_count": 29,
     "metadata": {},
     "output_type": "execute_result"
    }
   ],
   "source": [
    "from sklearn.linear_model import LogisticRegression\n",
    "from sklearn.model_selection import cross_val_score\n",
    "clf_tree = LogisticRegression()\n",
    "cv_scores = cross_val_score(clf_tree,features_tree, all_classes, cv=10)\n",
    "cv_scores.mean()"
   ]
  },
  {
   "cell_type": "code",
   "execution_count": 30,
   "metadata": {},
   "outputs": [
    {
     "data": {
      "text/plain": [
       "0.7323852183650615"
      ]
     },
     "execution_count": 30,
     "metadata": {},
     "output_type": "execute_result"
    }
   ],
   "source": [
    "from sklearn.linear_model import LogisticRegression\n",
    "from sklearn.model_selection import cross_val_score\n",
    "clf_rfe = LogisticRegression()\n",
    "cv_scores = cross_val_score(clf_rfe,features_rfe, all_classes, cv=10)\n",
    "cv_scores.mean()"
   ]
  },
  {
   "cell_type": "code",
   "execution_count": 31,
   "metadata": {},
   "outputs": [
    {
     "data": {
      "text/plain": [
       "0.7155095184770437"
      ]
     },
     "execution_count": 31,
     "metadata": {},
     "output_type": "execute_result"
    }
   ],
   "source": [
    "from sklearn.model_selection import cross_val_score\n",
    "from sklearn.ensemble import RandomForestClassifier\n",
    "\n",
    "clf_tree2 = RandomForestClassifier(n_estimators=10, random_state=1)\n",
    "cv_scores = cross_val_score(clf_tree2,features_tree2, all_classes, cv=10)\n",
    "cv_scores.mean()"
   ]
  },
  {
   "cell_type": "markdown",
   "metadata": {},
   "source": [
    "### best accuracy with features_rfe"
   ]
  },
  {
   "cell_type": "code",
   "execution_count": 32,
   "metadata": {},
   "outputs": [
    {
     "ename": "SyntaxError",
     "evalue": "invalid syntax (<ipython-input-32-19a158c19466>, line 1)",
     "output_type": "error",
     "traceback": [
      "\u001b[1;36m  File \u001b[1;32m\"<ipython-input-32-19a158c19466>\"\u001b[1;36m, line \u001b[1;32m1\u001b[0m\n\u001b[1;33m    y_pred=\u001b[0m\n\u001b[1;37m           ^\u001b[0m\n\u001b[1;31mSyntaxError\u001b[0m\u001b[1;31m:\u001b[0m invalid syntax\n"
     ]
    }
   ],
   "source": [
    "y_pred=\n",
    "from sklearn.metrics import confusion_matrix                   \n",
    "cm = confusion_matrix(all_classes,y_pred)\n",
    "cm"
   ]
  },
  {
   "cell_type": "code",
   "execution_count": 33,
   "metadata": {},
   "outputs": [
    {
     "ename": "NameError",
     "evalue": "name 'cm' is not defined",
     "output_type": "error",
     "traceback": [
      "\u001b[1;31m---------------------------------------------------------------------------\u001b[0m",
      "\u001b[1;31mNameError\u001b[0m                                 Traceback (most recent call last)",
      "\u001b[1;32m<ipython-input-33-d3496bf52dbf>\u001b[0m in \u001b[0;36m<module>\u001b[1;34m()\u001b[0m\n\u001b[1;32m----> 1\u001b[1;33m \u001b[0mtp\u001b[0m\u001b[1;33m=\u001b[0m\u001b[0mcm\u001b[0m\u001b[1;33m[\u001b[0m\u001b[1;36m0\u001b[0m\u001b[1;33m]\u001b[0m\u001b[1;33m[\u001b[0m\u001b[1;36m0\u001b[0m\u001b[1;33m]\u001b[0m\u001b[1;33m\u001b[0m\u001b[0m\n\u001b[0m",
      "\u001b[1;31mNameError\u001b[0m: name 'cm' is not defined"
     ]
    }
   ],
   "source": [
    "tp=cm[0][0]"
   ]
  },
  {
   "cell_type": "code",
   "execution_count": 34,
   "metadata": {},
   "outputs": [
    {
     "ename": "NameError",
     "evalue": "name 'cm' is not defined",
     "output_type": "error",
     "traceback": [
      "\u001b[1;31m---------------------------------------------------------------------------\u001b[0m",
      "\u001b[1;31mNameError\u001b[0m                                 Traceback (most recent call last)",
      "\u001b[1;32m<ipython-input-34-4d9fcb567293>\u001b[0m in \u001b[0;36m<module>\u001b[1;34m()\u001b[0m\n\u001b[1;32m----> 1\u001b[1;33m \u001b[0mfn\u001b[0m\u001b[1;33m=\u001b[0m\u001b[0mcm\u001b[0m\u001b[1;33m[\u001b[0m\u001b[1;36m0\u001b[0m\u001b[1;33m]\u001b[0m\u001b[1;33m[\u001b[0m\u001b[1;36m1\u001b[0m\u001b[1;33m]\u001b[0m\u001b[1;33m\u001b[0m\u001b[0m\n\u001b[0m",
      "\u001b[1;31mNameError\u001b[0m: name 'cm' is not defined"
     ]
    }
   ],
   "source": [
    "fn=cm[0][1]"
   ]
  },
  {
   "cell_type": "code",
   "execution_count": 54,
   "metadata": {},
   "outputs": [],
   "source": [
    "fp=cm[1][0]"
   ]
  },
  {
   "cell_type": "code",
   "execution_count": 55,
   "metadata": {},
   "outputs": [],
   "source": [
    "tn=cm[1][1]\n"
   ]
  },
  {
   "cell_type": "code",
   "execution_count": 57,
   "metadata": {},
   "outputs": [
    {
     "data": {
      "text/plain": [
       "0.7212285714285714"
      ]
     },
     "execution_count": 57,
     "metadata": {},
     "output_type": "execute_result"
    }
   ],
   "source": [
    "accuracy=(tp+tn)/(tp+tn+fp+fn)\n",
    "accuracy"
   ]
  },
  {
   "cell_type": "code",
   "execution_count": 59,
   "metadata": {},
   "outputs": [
    {
     "data": {
      "text/plain": [
       "0.7643699494588961"
      ]
     },
     "execution_count": 59,
     "metadata": {},
     "output_type": "execute_result"
    }
   ],
   "source": [
    "tpr=tp/(tp+fn)    # recall or sensitivity\n",
    "tpr"
   ]
  },
  {
   "cell_type": "code",
   "execution_count": 61,
   "metadata": {},
   "outputs": [
    {
     "data": {
      "text/plain": [
       "0.6780353926641699"
      ]
     },
     "execution_count": 61,
     "metadata": {},
     "output_type": "execute_result"
    }
   ],
   "source": [
    "tnr=tn/(tn+fp)    #specificality\n",
    "tnr"
   ]
  },
  {
   "cell_type": "code",
   "execution_count": 63,
   "metadata": {},
   "outputs": [
    {
     "data": {
      "text/plain": [
       "0.7038731561094896"
      ]
     },
     "execution_count": 63,
     "metadata": {},
     "output_type": "execute_result"
    }
   ],
   "source": [
    "precision=tp/(tp+fp)\n",
    "precision"
   ]
  },
  {
   "cell_type": "code",
   "execution_count": 64,
   "metadata": {},
   "outputs": [
    {
     "data": {
      "text/plain": [
       "0.732875212177627"
      ]
     },
     "execution_count": 64,
     "metadata": {},
     "output_type": "execute_result"
    }
   ],
   "source": [
    "f_measure=(2*precision*tpr)/(precision+tpr)\n",
    "f_measure"
   ]
  },
  {
   "cell_type": "markdown",
   "metadata": {},
   "source": [
    "### Naive bayes"
   ]
  },
  {
   "cell_type": "code",
   "execution_count": 35,
   "metadata": {},
   "outputs": [
    {
     "data": {
      "text/plain": [
       "0.6554535274356103"
      ]
     },
     "execution_count": 35,
     "metadata": {},
     "output_type": "execute_result"
    }
   ],
   "source": [
    "from sklearn.naive_bayes import MultinomialNB\n",
    "from sklearn import preprocessing\n",
    "clf = MultinomialNB()\n",
    "cv_scores = cross_val_score(clf,features_tree, all_classes, cv=10)\n",
    "\n",
    "cv_scores.mean()"
   ]
  },
  {
   "cell_type": "code",
   "execution_count": 36,
   "metadata": {},
   "outputs": [
    {
     "data": {
      "text/plain": [
       "0.6744344904815229"
      ]
     },
     "execution_count": 36,
     "metadata": {},
     "output_type": "execute_result"
    }
   ],
   "source": [
    "from sklearn.naive_bayes import MultinomialNB\n",
    "from sklearn import preprocessing\n",
    "clf = MultinomialNB()\n",
    "cv_scores = cross_val_score(clf,features_tree2, all_classes, cv=10)\n",
    "\n",
    "cv_scores.mean()"
   ]
  },
  {
   "cell_type": "code",
   "execution_count": 37,
   "metadata": {},
   "outputs": [
    {
     "data": {
      "text/plain": [
       "0.6417469204927212"
      ]
     },
     "execution_count": 37,
     "metadata": {},
     "output_type": "execute_result"
    }
   ],
   "source": [
    "from sklearn.naive_bayes import MultinomialNB\n",
    "from sklearn import preprocessing\n",
    "clf = MultinomialNB()\n",
    "cv_scores = cross_val_score(clf,features_rfe, all_classes, cv=10)\n",
    "\n",
    "cv_scores.mean()"
   ]
  },
  {
   "cell_type": "code",
   "execution_count": 38,
   "metadata": {},
   "outputs": [
    {
     "data": {
      "text/plain": [
       "0.6070212765957448"
      ]
     },
     "execution_count": 38,
     "metadata": {},
     "output_type": "execute_result"
    }
   ],
   "source": [
    "from sklearn.naive_bayes import MultinomialNB\n",
    "from sklearn import preprocessing\n",
    "clf = MultinomialNB()\n",
    "cv_scores = cross_val_score(clf,features_univariate, all_classes, cv=10)\n",
    "\n",
    "cv_scores.mean()"
   ]
  },
  {
   "cell_type": "markdown",
   "metadata": {},
   "source": [
    "### best accuracy with features_tree"
   ]
  },
  {
   "cell_type": "markdown",
   "metadata": {},
   "source": [
    "### neural network"
   ]
  },
  {
   "cell_type": "code",
   "execution_count": 39,
   "metadata": {},
   "outputs": [],
   "source": [
    "from tensorflow.keras.layers import Dense\n",
    "from tensorflow.keras.models import Sequential\n",
    "\n",
    "def create_model():\n",
    "    model = Sequential()\n",
    "    #4 feature inputs going into an 6-unit layer (more does not seem to help - in fact you can go down to 4)\n",
    "    model.add(Dense(8, input_dim=9, kernel_initializer='normal', activation='relu'))\n",
    "    model.add(Dense(4, kernel_initializer='normal', activation='relu'))\n",
    "    # Output layer with a binary classification (benign or malignant)\n",
    "    model.add(Dense(1, kernel_initializer='normal', activation='sigmoid'))\n",
    "    # Compile model; adam seemed to work best\n",
    "    model.compile(loss='binary_crossentropy', optimizer='adam', metrics=['accuracy'])\n",
    "    return model"
   ]
  },
  {
   "cell_type": "code",
   "execution_count": 43,
   "metadata": {},
   "outputs": [
    {
     "name": "stdout",
     "output_type": "stream",
     "text": [
      "Epoch 1/200\n",
      " - 1s - loss: 0.6931 - acc: 0.5232\n",
      "Epoch 2/200\n",
      " - 0s - loss: 0.6930 - acc: 0.5232\n",
      "Epoch 3/200\n",
      " - 0s - loss: 0.6927 - acc: 0.5232\n",
      "Epoch 4/200\n",
      " - 0s - loss: 0.6924 - acc: 0.5232\n",
      "Epoch 5/200\n",
      " - 0s - loss: 0.6920 - acc: 0.5232\n",
      "Epoch 6/200\n",
      " - 0s - loss: 0.6914 - acc: 0.5232\n",
      "Epoch 7/200\n",
      " - 0s - loss: 0.6902 - acc: 0.5232\n",
      "Epoch 8/200\n",
      " - 0s - loss: 0.6887 - acc: 0.5232\n",
      "Epoch 9/200\n",
      " - 0s - loss: 0.6865 - acc: 0.5232\n",
      "Epoch 10/200\n",
      " - 0s - loss: 0.6839 - acc: 0.5232\n",
      "Epoch 11/200\n",
      " - 0s - loss: 0.6810 - acc: 0.5232\n",
      "Epoch 12/200\n",
      " - 0s - loss: 0.6775 - acc: 0.5232\n",
      "Epoch 13/200\n",
      " - 0s - loss: 0.6736 - acc: 0.5232\n",
      "Epoch 14/200\n",
      " - 0s - loss: 0.6697 - acc: 0.5232\n",
      "Epoch 15/200\n",
      " - 0s - loss: 0.6655 - acc: 0.5232\n",
      "Epoch 16/200\n",
      " - 0s - loss: 0.6616 - acc: 0.5232\n",
      "Epoch 17/200\n",
      " - 0s - loss: 0.6576 - acc: 0.5232\n",
      "Epoch 18/200\n",
      " - 0s - loss: 0.6538 - acc: 0.5907\n",
      "Epoch 19/200\n",
      " - 0s - loss: 0.6499 - acc: 0.6688\n",
      "Epoch 20/200\n",
      " - 0s - loss: 0.6463 - acc: 0.6624\n",
      "Epoch 21/200\n",
      " - 0s - loss: 0.6428 - acc: 0.6751\n",
      "Epoch 22/200\n",
      " - 0s - loss: 0.6394 - acc: 0.6751\n",
      "Epoch 23/200\n",
      " - 0s - loss: 0.6361 - acc: 0.6899\n",
      "Epoch 24/200\n",
      " - 0s - loss: 0.6326 - acc: 0.6899\n",
      "Epoch 25/200\n",
      " - 0s - loss: 0.6298 - acc: 0.6878\n",
      "Epoch 26/200\n",
      " - 0s - loss: 0.6265 - acc: 0.6920\n",
      "Epoch 27/200\n",
      " - 0s - loss: 0.6238 - acc: 0.6962\n",
      "Epoch 28/200\n",
      " - 0s - loss: 0.6206 - acc: 0.7068\n",
      "Epoch 29/200\n",
      " - 0s - loss: 0.6181 - acc: 0.7046\n",
      "Epoch 30/200\n",
      " - 0s - loss: 0.6157 - acc: 0.7215\n",
      "Epoch 31/200\n",
      " - 0s - loss: 0.6129 - acc: 0.7194\n",
      "Epoch 32/200\n",
      " - 0s - loss: 0.6101 - acc: 0.7363\n",
      "Epoch 33/200\n",
      " - 0s - loss: 0.6081 - acc: 0.7342\n",
      "Epoch 34/200\n",
      " - 0s - loss: 0.6050 - acc: 0.7321\n",
      "Epoch 35/200\n",
      " - 0s - loss: 0.6030 - acc: 0.7468\n",
      "Epoch 36/200\n",
      " - 0s - loss: 0.6005 - acc: 0.7447\n",
      "Epoch 37/200\n",
      " - 0s - loss: 0.5988 - acc: 0.7426\n",
      "Epoch 38/200\n",
      " - 0s - loss: 0.5966 - acc: 0.7489\n",
      "Epoch 39/200\n",
      " - 0s - loss: 0.5951 - acc: 0.7574\n",
      "Epoch 40/200\n",
      " - 0s - loss: 0.5932 - acc: 0.7468\n",
      "Epoch 41/200\n",
      " - 0s - loss: 0.5913 - acc: 0.7595\n",
      "Epoch 42/200\n",
      " - 0s - loss: 0.5899 - acc: 0.7489\n",
      "Epoch 43/200\n",
      " - 0s - loss: 0.5879 - acc: 0.7489\n",
      "Epoch 44/200\n",
      " - 0s - loss: 0.5861 - acc: 0.7553\n",
      "Epoch 45/200\n",
      " - 0s - loss: 0.5857 - acc: 0.7511\n",
      "Epoch 46/200\n",
      " - 0s - loss: 0.5831 - acc: 0.7489\n",
      "Epoch 47/200\n",
      " - 0s - loss: 0.5815 - acc: 0.7553\n",
      "Epoch 48/200\n",
      " - 0s - loss: 0.5801 - acc: 0.7595\n",
      "Epoch 49/200\n",
      " - 0s - loss: 0.5790 - acc: 0.7574\n",
      "Epoch 50/200\n",
      " - 0s - loss: 0.5780 - acc: 0.7511\n",
      "Epoch 51/200\n",
      " - 0s - loss: 0.5761 - acc: 0.7574\n",
      "Epoch 52/200\n",
      " - 0s - loss: 0.5749 - acc: 0.7532\n",
      "Epoch 53/200\n",
      " - 0s - loss: 0.5744 - acc: 0.7532\n",
      "Epoch 54/200\n",
      " - 0s - loss: 0.5729 - acc: 0.7553\n",
      "Epoch 55/200\n",
      " - 0s - loss: 0.5718 - acc: 0.7532\n",
      "Epoch 56/200\n",
      " - 0s - loss: 0.5706 - acc: 0.7532\n",
      "Epoch 57/200\n",
      " - 0s - loss: 0.5704 - acc: 0.7511\n",
      "Epoch 58/200\n",
      " - 0s - loss: 0.5690 - acc: 0.7532\n",
      "Epoch 59/200\n",
      " - 0s - loss: 0.5679 - acc: 0.7532\n",
      "Epoch 60/200\n",
      " - 0s - loss: 0.5666 - acc: 0.7595\n",
      "Epoch 61/200\n",
      " - 0s - loss: 0.5657 - acc: 0.7574\n",
      "Epoch 62/200\n",
      " - 0s - loss: 0.5648 - acc: 0.7553\n",
      "Epoch 63/200\n",
      " - 0s - loss: 0.5639 - acc: 0.7574\n",
      "Epoch 64/200\n",
      " - 0s - loss: 0.5635 - acc: 0.7511\n",
      "Epoch 65/200\n",
      " - 0s - loss: 0.5622 - acc: 0.7511\n",
      "Epoch 66/200\n",
      " - 0s - loss: 0.5617 - acc: 0.7532\n",
      "Epoch 67/200\n",
      " - 0s - loss: 0.5608 - acc: 0.7489\n",
      "Epoch 68/200\n",
      " - 0s - loss: 0.5601 - acc: 0.7511\n",
      "Epoch 69/200\n",
      " - 0s - loss: 0.5593 - acc: 0.7532\n",
      "Epoch 70/200\n",
      " - 0s - loss: 0.5584 - acc: 0.7532\n",
      "Epoch 71/200\n",
      " - 0s - loss: 0.5579 - acc: 0.7511\n",
      "Epoch 72/200\n",
      " - 0s - loss: 0.5575 - acc: 0.7511\n",
      "Epoch 73/200\n",
      " - 0s - loss: 0.5563 - acc: 0.7532\n",
      "Epoch 74/200\n",
      " - 0s - loss: 0.5553 - acc: 0.7553\n",
      "Epoch 75/200\n",
      " - 0s - loss: 0.5555 - acc: 0.7489\n",
      "Epoch 76/200\n",
      " - 0s - loss: 0.5557 - acc: 0.7532\n",
      "Epoch 77/200\n",
      " - 0s - loss: 0.5538 - acc: 0.7574\n",
      "Epoch 78/200\n",
      " - 0s - loss: 0.5527 - acc: 0.7553\n",
      "Epoch 79/200\n",
      " - 0s - loss: 0.5525 - acc: 0.7553\n",
      "Epoch 80/200\n",
      " - 0s - loss: 0.5522 - acc: 0.7532\n",
      "Epoch 81/200\n",
      " - 0s - loss: 0.5511 - acc: 0.7532\n",
      "Epoch 82/200\n",
      " - 0s - loss: 0.5509 - acc: 0.7553\n",
      "Epoch 83/200\n",
      " - 0s - loss: 0.5502 - acc: 0.7553\n",
      "Epoch 84/200\n",
      " - 0s - loss: 0.5504 - acc: 0.7574\n",
      "Epoch 85/200\n",
      " - 0s - loss: 0.5489 - acc: 0.7574\n",
      "Epoch 86/200\n",
      " - 0s - loss: 0.5485 - acc: 0.7553\n",
      "Epoch 87/200\n",
      " - 0s - loss: 0.5480 - acc: 0.7574\n",
      "Epoch 88/200\n",
      " - 0s - loss: 0.5476 - acc: 0.7553\n",
      "Epoch 89/200\n",
      " - 0s - loss: 0.5482 - acc: 0.7595\n",
      "Epoch 90/200\n",
      " - 0s - loss: 0.5469 - acc: 0.7574\n",
      "Epoch 91/200\n",
      " - 0s - loss: 0.5479 - acc: 0.7532\n",
      "Epoch 92/200\n",
      " - 0s - loss: 0.5465 - acc: 0.7574\n",
      "Epoch 93/200\n",
      " - 0s - loss: 0.5461 - acc: 0.7574\n",
      "Epoch 94/200\n",
      " - 0s - loss: 0.5451 - acc: 0.7553\n",
      "Epoch 95/200\n",
      " - 0s - loss: 0.5446 - acc: 0.7532\n",
      "Epoch 96/200\n",
      " - 0s - loss: 0.5458 - acc: 0.7574\n",
      "Epoch 97/200\n",
      " - 0s - loss: 0.5445 - acc: 0.7553\n",
      "Epoch 98/200\n",
      " - 0s - loss: 0.5438 - acc: 0.7574\n",
      "Epoch 99/200\n",
      " - 0s - loss: 0.5436 - acc: 0.7511\n",
      "Epoch 100/200\n",
      " - 0s - loss: 0.5435 - acc: 0.7511\n",
      "Epoch 101/200\n",
      " - 0s - loss: 0.5426 - acc: 0.7574\n",
      "Epoch 102/200\n",
      " - 0s - loss: 0.5419 - acc: 0.7595\n",
      "Epoch 103/200\n",
      " - 0s - loss: 0.5417 - acc: 0.7574\n",
      "Epoch 104/200\n",
      " - 0s - loss: 0.5416 - acc: 0.7532\n",
      "Epoch 105/200\n",
      " - 0s - loss: 0.5417 - acc: 0.7595\n",
      "Epoch 106/200\n",
      " - 0s - loss: 0.5415 - acc: 0.7574\n",
      "Epoch 107/200\n",
      " - 0s - loss: 0.5411 - acc: 0.7574\n",
      "Epoch 108/200\n",
      " - 0s - loss: 0.5408 - acc: 0.7553\n",
      "Epoch 109/200\n",
      " - 0s - loss: 0.5402 - acc: 0.7553\n",
      "Epoch 110/200\n",
      " - 0s - loss: 0.5402 - acc: 0.7595\n",
      "Epoch 111/200\n",
      " - 0s - loss: 0.5397 - acc: 0.7595\n",
      "Epoch 112/200\n",
      " - 0s - loss: 0.5394 - acc: 0.7553\n",
      "Epoch 113/200\n",
      " - 0s - loss: 0.5390 - acc: 0.7574\n",
      "Epoch 114/200\n",
      " - 0s - loss: 0.5387 - acc: 0.7553\n",
      "Epoch 115/200\n",
      " - 0s - loss: 0.5385 - acc: 0.7574\n",
      "Epoch 116/200\n",
      " - 0s - loss: 0.5380 - acc: 0.7574\n",
      "Epoch 117/200\n",
      " - 0s - loss: 0.5379 - acc: 0.7595\n",
      "Epoch 118/200\n",
      " - 0s - loss: 0.5390 - acc: 0.7553\n",
      "Epoch 119/200\n",
      " - 0s - loss: 0.5373 - acc: 0.7532\n",
      "Epoch 120/200\n",
      " - 0s - loss: 0.5379 - acc: 0.7574\n",
      "Epoch 121/200\n",
      " - 0s - loss: 0.5372 - acc: 0.7553\n",
      "Epoch 122/200\n",
      " - 0s - loss: 0.5370 - acc: 0.7574\n",
      "Epoch 123/200\n",
      " - 0s - loss: 0.5363 - acc: 0.7553\n",
      "Epoch 124/200\n",
      " - 0s - loss: 0.5368 - acc: 0.7574\n",
      "Epoch 125/200\n",
      " - 0s - loss: 0.5359 - acc: 0.7553\n",
      "Epoch 126/200\n",
      " - 0s - loss: 0.5364 - acc: 0.7553\n",
      "Epoch 127/200\n",
      " - 0s - loss: 0.5362 - acc: 0.7468\n",
      "Epoch 128/200\n",
      " - 0s - loss: 0.5351 - acc: 0.7511\n",
      "Epoch 129/200\n",
      " - 0s - loss: 0.5358 - acc: 0.7511\n",
      "Epoch 130/200\n",
      " - 0s - loss: 0.5345 - acc: 0.7532\n",
      "Epoch 131/200\n",
      " - 0s - loss: 0.5340 - acc: 0.7553\n",
      "Epoch 132/200\n",
      " - 0s - loss: 0.5348 - acc: 0.7553\n",
      "Epoch 133/200\n",
      " - 0s - loss: 0.5338 - acc: 0.7553\n",
      "Epoch 134/200\n",
      " - 0s - loss: 0.5335 - acc: 0.7511\n",
      "Epoch 135/200\n",
      " - 0s - loss: 0.5332 - acc: 0.7511\n",
      "Epoch 136/200\n",
      " - 0s - loss: 0.5338 - acc: 0.7532\n",
      "Epoch 137/200\n",
      " - 0s - loss: 0.5338 - acc: 0.7553\n",
      "Epoch 138/200\n",
      " - 0s - loss: 0.5332 - acc: 0.7532\n",
      "Epoch 139/200\n",
      " - 0s - loss: 0.5334 - acc: 0.7511\n",
      "Epoch 140/200\n",
      " - 0s - loss: 0.5329 - acc: 0.7532\n",
      "Epoch 141/200\n",
      " - 0s - loss: 0.5324 - acc: 0.7532\n",
      "Epoch 142/200\n",
      " - 0s - loss: 0.5323 - acc: 0.7532\n",
      "Epoch 143/200\n",
      " - 0s - loss: 0.5322 - acc: 0.7553\n",
      "Epoch 144/200\n",
      " - 0s - loss: 0.5320 - acc: 0.7553\n",
      "Epoch 145/200\n",
      " - 0s - loss: 0.5332 - acc: 0.7595\n",
      "Epoch 146/200\n",
      " - 0s - loss: 0.5324 - acc: 0.7489\n",
      "Epoch 147/200\n",
      " - 0s - loss: 0.5320 - acc: 0.7511\n",
      "Epoch 148/200\n",
      " - 0s - loss: 0.5314 - acc: 0.7553\n",
      "Epoch 149/200\n",
      " - 0s - loss: 0.5318 - acc: 0.7532\n",
      "Epoch 150/200\n",
      " - 0s - loss: 0.5314 - acc: 0.7532\n",
      "Epoch 151/200\n",
      " - 0s - loss: 0.5311 - acc: 0.7553\n",
      "Epoch 152/200\n",
      " - 0s - loss: 0.5309 - acc: 0.7532\n",
      "Epoch 153/200\n",
      " - 0s - loss: 0.5309 - acc: 0.7553\n",
      "Epoch 154/200\n",
      " - 0s - loss: 0.5314 - acc: 0.7511\n",
      "Epoch 155/200\n",
      " - 0s - loss: 0.5305 - acc: 0.7532\n",
      "Epoch 156/200\n",
      " - 0s - loss: 0.5303 - acc: 0.7553\n",
      "Epoch 157/200\n",
      " - 0s - loss: 0.5306 - acc: 0.7532\n",
      "Epoch 158/200\n",
      " - 0s - loss: 0.5307 - acc: 0.7553\n",
      "Epoch 159/200\n",
      " - 0s - loss: 0.5306 - acc: 0.7532\n",
      "Epoch 160/200\n",
      " - 0s - loss: 0.5297 - acc: 0.7532\n",
      "Epoch 161/200\n",
      " - 0s - loss: 0.5296 - acc: 0.7532\n",
      "Epoch 162/200\n",
      " - 0s - loss: 0.5295 - acc: 0.7532\n",
      "Epoch 163/200\n",
      " - 0s - loss: 0.5295 - acc: 0.7553\n",
      "Epoch 164/200\n",
      " - 0s - loss: 0.5293 - acc: 0.7574\n",
      "Epoch 165/200\n",
      " - 0s - loss: 0.5294 - acc: 0.7595\n",
      "Epoch 166/200\n",
      " - 0s - loss: 0.5291 - acc: 0.7553\n",
      "Epoch 167/200\n",
      " - 0s - loss: 0.5289 - acc: 0.7553\n",
      "Epoch 168/200\n",
      " - 0s - loss: 0.5293 - acc: 0.7489\n",
      "Epoch 169/200\n",
      " - 0s - loss: 0.5289 - acc: 0.7532\n",
      "Epoch 170/200\n",
      " - 0s - loss: 0.5288 - acc: 0.7553\n"
     ]
    },
    {
     "name": "stdout",
     "output_type": "stream",
     "text": [
      "Epoch 171/200\n",
      " - 0s - loss: 0.5300 - acc: 0.7532\n",
      "Epoch 172/200\n",
      " - 0s - loss: 0.5287 - acc: 0.7553\n",
      "Epoch 173/200\n",
      " - 0s - loss: 0.5287 - acc: 0.7553\n",
      "Epoch 174/200\n",
      " - 0s - loss: 0.5289 - acc: 0.7553\n",
      "Epoch 175/200\n",
      " - 0s - loss: 0.5287 - acc: 0.7616\n",
      "Epoch 176/200\n",
      " - 0s - loss: 0.5299 - acc: 0.7489\n",
      "Epoch 177/200\n",
      " - 0s - loss: 0.5281 - acc: 0.7595\n",
      "Epoch 178/200\n",
      " - 0s - loss: 0.5283 - acc: 0.7553\n",
      "Epoch 179/200\n",
      " - 0s - loss: 0.5281 - acc: 0.7553\n",
      "Epoch 180/200\n",
      " - 0s - loss: 0.5281 - acc: 0.7511\n",
      "Epoch 181/200\n",
      " - 0s - loss: 0.5275 - acc: 0.7595\n",
      "Epoch 182/200\n",
      " - 0s - loss: 0.5289 - acc: 0.7595\n",
      "Epoch 183/200\n",
      " - 0s - loss: 0.5270 - acc: 0.7574\n",
      "Epoch 184/200\n",
      " - 0s - loss: 0.5281 - acc: 0.7511\n",
      "Epoch 185/200\n",
      " - 0s - loss: 0.5289 - acc: 0.7489\n",
      "Epoch 186/200\n",
      " - 0s - loss: 0.5272 - acc: 0.7574\n",
      "Epoch 187/200\n",
      " - 0s - loss: 0.5274 - acc: 0.7595\n",
      "Epoch 188/200\n",
      " - 0s - loss: 0.5271 - acc: 0.7574\n",
      "Epoch 189/200\n",
      " - 0s - loss: 0.5280 - acc: 0.7574\n",
      "Epoch 190/200\n",
      " - 0s - loss: 0.5277 - acc: 0.7616\n",
      "Epoch 191/200\n",
      " - 0s - loss: 0.5270 - acc: 0.7511\n",
      "Epoch 192/200\n",
      " - 0s - loss: 0.5271 - acc: 0.7595\n",
      "Epoch 193/200\n",
      " - 0s - loss: 0.5271 - acc: 0.7532\n",
      "Epoch 194/200\n",
      " - 0s - loss: 0.5268 - acc: 0.7595\n",
      "Epoch 195/200\n",
      " - 0s - loss: 0.5271 - acc: 0.7489\n",
      "Epoch 196/200\n",
      " - 0s - loss: 0.5269 - acc: 0.7595\n",
      "Epoch 197/200\n",
      " - 0s - loss: 0.5264 - acc: 0.7574\n",
      "Epoch 198/200\n",
      " - 0s - loss: 0.5266 - acc: 0.7595\n",
      "Epoch 199/200\n",
      " - 0s - loss: 0.5264 - acc: 0.7595\n",
      "Epoch 200/200\n",
      " - 0s - loss: 0.5265 - acc: 0.7595\n",
      "Epoch 1/200\n",
      " - 1s - loss: 0.6931 - acc: 0.5095\n",
      "Epoch 2/200\n",
      " - 0s - loss: 0.6930 - acc: 0.5137\n",
      "Epoch 3/200\n",
      " - 0s - loss: 0.6928 - acc: 0.5137\n",
      "Epoch 4/200\n",
      " - 0s - loss: 0.6925 - acc: 0.5137\n",
      "Epoch 5/200\n",
      " - 0s - loss: 0.6921 - acc: 0.5158\n",
      "Epoch 6/200\n",
      " - 0s - loss: 0.6913 - acc: 0.5284\n",
      "Epoch 7/200\n",
      " - 0s - loss: 0.6900 - acc: 0.5853\n",
      "Epoch 8/200\n",
      " - 0s - loss: 0.6879 - acc: 0.6337\n",
      "Epoch 9/200\n",
      " - 0s - loss: 0.6852 - acc: 0.6526\n",
      "Epoch 10/200\n",
      " - 0s - loss: 0.6817 - acc: 0.6968\n",
      "Epoch 11/200\n",
      " - 0s - loss: 0.6773 - acc: 0.7053\n",
      "Epoch 12/200\n",
      " - 0s - loss: 0.6720 - acc: 0.7074\n",
      "Epoch 13/200\n",
      " - 0s - loss: 0.6653 - acc: 0.7116\n",
      "Epoch 14/200\n",
      " - 0s - loss: 0.6582 - acc: 0.7074\n",
      "Epoch 15/200\n",
      " - 0s - loss: 0.6502 - acc: 0.7179\n",
      "Epoch 16/200\n",
      " - 0s - loss: 0.6419 - acc: 0.7011\n",
      "Epoch 17/200\n",
      " - 0s - loss: 0.6325 - acc: 0.7095\n",
      "Epoch 18/200\n",
      " - 0s - loss: 0.6241 - acc: 0.7137\n",
      "Epoch 19/200\n",
      " - 0s - loss: 0.6153 - acc: 0.7116\n",
      "Epoch 20/200\n",
      " - 0s - loss: 0.6073 - acc: 0.7074\n",
      "Epoch 21/200\n",
      " - 0s - loss: 0.5994 - acc: 0.7116\n",
      "Epoch 22/200\n",
      " - 0s - loss: 0.5928 - acc: 0.7116\n",
      "Epoch 23/200\n",
      " - 0s - loss: 0.5868 - acc: 0.7053\n",
      "Epoch 24/200\n",
      " - 0s - loss: 0.5812 - acc: 0.7053\n",
      "Epoch 25/200\n",
      " - 0s - loss: 0.5758 - acc: 0.7116\n",
      "Epoch 26/200\n",
      " - 0s - loss: 0.5723 - acc: 0.7137\n",
      "Epoch 27/200\n",
      " - 0s - loss: 0.5683 - acc: 0.7095\n",
      "Epoch 28/200\n",
      " - 0s - loss: 0.5647 - acc: 0.7116\n",
      "Epoch 29/200\n",
      " - 0s - loss: 0.5626 - acc: 0.7116\n",
      "Epoch 30/200\n",
      " - 0s - loss: 0.5604 - acc: 0.7095\n",
      "Epoch 31/200\n",
      " - 0s - loss: 0.5581 - acc: 0.7158\n",
      "Epoch 32/200\n",
      " - 0s - loss: 0.5570 - acc: 0.7032\n",
      "Epoch 33/200\n",
      " - 0s - loss: 0.5547 - acc: 0.7137\n",
      "Epoch 34/200\n",
      " - 0s - loss: 0.5531 - acc: 0.7116\n",
      "Epoch 35/200\n",
      " - 0s - loss: 0.5522 - acc: 0.7137\n",
      "Epoch 36/200\n",
      " - 0s - loss: 0.5498 - acc: 0.7095\n",
      "Epoch 37/200\n",
      " - 0s - loss: 0.5489 - acc: 0.7158\n",
      "Epoch 38/200\n",
      " - 0s - loss: 0.5481 - acc: 0.7137\n",
      "Epoch 39/200\n",
      " - 0s - loss: 0.5462 - acc: 0.7137\n",
      "Epoch 40/200\n",
      " - 0s - loss: 0.5459 - acc: 0.7053\n",
      "Epoch 41/200\n",
      " - 0s - loss: 0.5447 - acc: 0.7116\n",
      "Epoch 42/200\n",
      " - 0s - loss: 0.5465 - acc: 0.7137\n",
      "Epoch 43/200\n",
      " - 0s - loss: 0.5444 - acc: 0.7137\n",
      "Epoch 44/200\n",
      " - 0s - loss: 0.5435 - acc: 0.7116\n",
      "Epoch 45/200\n",
      " - 0s - loss: 0.5419 - acc: 0.7221\n",
      "Epoch 46/200\n",
      " - 0s - loss: 0.5417 - acc: 0.7158\n",
      "Epoch 47/200\n",
      " - 0s - loss: 0.5413 - acc: 0.7116\n",
      "Epoch 48/200\n",
      " - 0s - loss: 0.5411 - acc: 0.7137\n",
      "Epoch 49/200\n",
      " - 0s - loss: 0.5405 - acc: 0.7242\n",
      "Epoch 50/200\n",
      " - 0s - loss: 0.5391 - acc: 0.7200\n",
      "Epoch 51/200\n",
      " - 0s - loss: 0.5391 - acc: 0.7137\n",
      "Epoch 52/200\n",
      " - 0s - loss: 0.5389 - acc: 0.7179\n",
      "Epoch 53/200\n",
      " - 0s - loss: 0.5391 - acc: 0.7158\n",
      "Epoch 54/200\n",
      " - 0s - loss: 0.5399 - acc: 0.7284\n",
      "Epoch 55/200\n",
      " - 0s - loss: 0.5381 - acc: 0.7221\n",
      "Epoch 56/200\n",
      " - 0s - loss: 0.5382 - acc: 0.7179\n",
      "Epoch 57/200\n",
      " - 0s - loss: 0.5372 - acc: 0.7179\n",
      "Epoch 58/200\n",
      " - 0s - loss: 0.5374 - acc: 0.7200\n",
      "Epoch 59/200\n",
      " - 0s - loss: 0.5381 - acc: 0.7221\n",
      "Epoch 60/200\n",
      " - 0s - loss: 0.5364 - acc: 0.7200\n",
      "Epoch 61/200\n",
      " - 0s - loss: 0.5376 - acc: 0.7179\n",
      "Epoch 62/200\n",
      " - 0s - loss: 0.5365 - acc: 0.7158\n",
      "Epoch 63/200\n",
      " - 0s - loss: 0.5377 - acc: 0.7263\n",
      "Epoch 64/200\n",
      " - 0s - loss: 0.5368 - acc: 0.7263\n",
      "Epoch 65/200\n",
      " - 0s - loss: 0.5360 - acc: 0.7158\n",
      "Epoch 66/200\n",
      " - 0s - loss: 0.5368 - acc: 0.7179\n",
      "Epoch 67/200\n",
      " - 0s - loss: 0.5363 - acc: 0.7179\n",
      "Epoch 68/200\n",
      " - 0s - loss: 0.5353 - acc: 0.7242\n",
      "Epoch 69/200\n",
      " - 0s - loss: 0.5358 - acc: 0.7263\n",
      "Epoch 70/200\n",
      " - 0s - loss: 0.5357 - acc: 0.7284\n",
      "Epoch 71/200\n",
      " - 0s - loss: 0.5354 - acc: 0.7284\n",
      "Epoch 72/200\n",
      " - 0s - loss: 0.5386 - acc: 0.7179\n",
      "Epoch 73/200\n",
      " - 0s - loss: 0.5351 - acc: 0.7242\n",
      "Epoch 74/200\n",
      " - 0s - loss: 0.5350 - acc: 0.7305\n",
      "Epoch 75/200\n",
      " - 0s - loss: 0.5348 - acc: 0.7263\n",
      "Epoch 76/200\n",
      " - 0s - loss: 0.5353 - acc: 0.7221\n",
      "Epoch 77/200\n",
      " - 0s - loss: 0.5346 - acc: 0.7221\n",
      "Epoch 78/200\n",
      " - 0s - loss: 0.5346 - acc: 0.7284\n",
      "Epoch 79/200\n",
      " - 0s - loss: 0.5353 - acc: 0.7242\n",
      "Epoch 80/200\n",
      " - 0s - loss: 0.5343 - acc: 0.7263\n",
      "Epoch 81/200\n",
      " - 0s - loss: 0.5341 - acc: 0.7284\n",
      "Epoch 82/200\n",
      " - 0s - loss: 0.5339 - acc: 0.7263\n",
      "Epoch 83/200\n",
      " - 0s - loss: 0.5343 - acc: 0.7221\n",
      "Epoch 84/200\n",
      " - 0s - loss: 0.5344 - acc: 0.7179\n",
      "Epoch 85/200\n",
      " - 0s - loss: 0.5346 - acc: 0.7284\n",
      "Epoch 86/200\n",
      " - 0s - loss: 0.5340 - acc: 0.7326\n",
      "Epoch 87/200\n",
      " - 0s - loss: 0.5341 - acc: 0.7179\n",
      "Epoch 88/200\n",
      " - 0s - loss: 0.5336 - acc: 0.7263\n",
      "Epoch 89/200\n",
      " - 0s - loss: 0.5341 - acc: 0.7305\n",
      "Epoch 90/200\n",
      " - 0s - loss: 0.5330 - acc: 0.7326\n",
      "Epoch 91/200\n",
      " - 0s - loss: 0.5333 - acc: 0.7200\n",
      "Epoch 92/200\n",
      " - 0s - loss: 0.5331 - acc: 0.7200\n",
      "Epoch 93/200\n",
      " - 0s - loss: 0.5332 - acc: 0.7284\n",
      "Epoch 94/200\n",
      " - 0s - loss: 0.5358 - acc: 0.7326\n",
      "Epoch 95/200\n",
      " - 0s - loss: 0.5332 - acc: 0.7326\n",
      "Epoch 96/200\n",
      " - 0s - loss: 0.5336 - acc: 0.7179\n",
      "Epoch 97/200\n",
      " - 0s - loss: 0.5339 - acc: 0.7221\n",
      "Epoch 98/200\n",
      " - 0s - loss: 0.5327 - acc: 0.7368\n",
      "Epoch 99/200\n",
      " - 0s - loss: 0.5341 - acc: 0.7326\n",
      "Epoch 100/200\n",
      " - 0s - loss: 0.5338 - acc: 0.7284\n",
      "Epoch 101/200\n",
      " - 0s - loss: 0.5331 - acc: 0.7389\n",
      "Epoch 102/200\n",
      " - 0s - loss: 0.5333 - acc: 0.7242\n",
      "Epoch 103/200\n",
      " - 0s - loss: 0.5327 - acc: 0.7200\n",
      "Epoch 104/200\n",
      " - 0s - loss: 0.5340 - acc: 0.7368\n",
      "Epoch 105/200\n",
      " - 0s - loss: 0.5328 - acc: 0.7368\n",
      "Epoch 106/200\n",
      " - 0s - loss: 0.5326 - acc: 0.7200\n",
      "Epoch 107/200\n",
      " - 0s - loss: 0.5331 - acc: 0.7263\n",
      "Epoch 108/200\n",
      " - 0s - loss: 0.5336 - acc: 0.7432\n",
      "Epoch 109/200\n",
      " - 0s - loss: 0.5369 - acc: 0.7263\n",
      "Epoch 110/200\n",
      " - 0s - loss: 0.5341 - acc: 0.7326\n",
      "Epoch 111/200\n",
      " - 0s - loss: 0.5328 - acc: 0.7368\n",
      "Epoch 112/200\n",
      " - 0s - loss: 0.5324 - acc: 0.7389\n",
      "Epoch 113/200\n",
      " - 0s - loss: 0.5321 - acc: 0.7263\n",
      "Epoch 114/200\n",
      " - 0s - loss: 0.5323 - acc: 0.7242\n",
      "Epoch 115/200\n",
      " - 0s - loss: 0.5320 - acc: 0.7263\n",
      "Epoch 116/200\n",
      " - 0s - loss: 0.5325 - acc: 0.7432\n",
      "Epoch 117/200\n",
      " - 0s - loss: 0.5331 - acc: 0.7305\n",
      "Epoch 118/200\n",
      " - 0s - loss: 0.5324 - acc: 0.7221\n",
      "Epoch 119/200\n",
      " - 0s - loss: 0.5342 - acc: 0.7347\n",
      "Epoch 120/200\n",
      " - 0s - loss: 0.5316 - acc: 0.7347\n",
      "Epoch 121/200\n",
      " - 0s - loss: 0.5332 - acc: 0.7221\n",
      "Epoch 122/200\n",
      " - 0s - loss: 0.5326 - acc: 0.7284\n",
      "Epoch 123/200\n",
      " - 0s - loss: 0.5331 - acc: 0.7263\n",
      "Epoch 124/200\n",
      " - 0s - loss: 0.5329 - acc: 0.7432\n",
      "Epoch 125/200\n",
      " - 0s - loss: 0.5320 - acc: 0.7432\n",
      "Epoch 126/200\n",
      " - 0s - loss: 0.5323 - acc: 0.7284\n",
      "Epoch 127/200\n",
      " - 0s - loss: 0.5326 - acc: 0.7326\n",
      "Epoch 128/200\n",
      " - 0s - loss: 0.5320 - acc: 0.7368\n",
      "Epoch 129/200\n",
      " - 0s - loss: 0.5320 - acc: 0.7263\n",
      "Epoch 130/200\n",
      " - 0s - loss: 0.5321 - acc: 0.7389\n",
      "Epoch 131/200\n",
      " - 0s - loss: 0.5322 - acc: 0.7305\n",
      "Epoch 132/200\n",
      " - 0s - loss: 0.5319 - acc: 0.7263\n",
      "Epoch 133/200\n",
      " - 0s - loss: 0.5331 - acc: 0.7326\n",
      "Epoch 134/200\n",
      " - 0s - loss: 0.5315 - acc: 0.7326\n",
      "Epoch 135/200\n",
      " - 0s - loss: 0.5322 - acc: 0.7242\n",
      "Epoch 136/200\n",
      " - 0s - loss: 0.5321 - acc: 0.7284\n",
      "Epoch 137/200\n",
      " - 0s - loss: 0.5318 - acc: 0.7263\n",
      "Epoch 138/200\n",
      " - 0s - loss: 0.5317 - acc: 0.7263\n",
      "Epoch 139/200\n",
      " - 0s - loss: 0.5327 - acc: 0.7347\n",
      "Epoch 140/200\n",
      " - 0s - loss: 0.5314 - acc: 0.7305\n"
     ]
    },
    {
     "name": "stdout",
     "output_type": "stream",
     "text": [
      "Epoch 141/200\n",
      " - 0s - loss: 0.5321 - acc: 0.7284\n",
      "Epoch 142/200\n",
      " - 0s - loss: 0.5312 - acc: 0.7305\n",
      "Epoch 143/200\n",
      " - 0s - loss: 0.5316 - acc: 0.7284\n",
      "Epoch 144/200\n",
      " - 0s - loss: 0.5317 - acc: 0.7368\n",
      "Epoch 145/200\n",
      " - 0s - loss: 0.5315 - acc: 0.7263\n",
      "Epoch 146/200\n",
      " - 0s - loss: 0.5313 - acc: 0.7284\n",
      "Epoch 147/200\n",
      " - 0s - loss: 0.5316 - acc: 0.7305\n",
      "Epoch 148/200\n",
      " - 0s - loss: 0.5315 - acc: 0.7305\n",
      "Epoch 149/200\n",
      " - 0s - loss: 0.5313 - acc: 0.7326\n",
      "Epoch 150/200\n",
      " - 0s - loss: 0.5315 - acc: 0.7347\n",
      "Epoch 151/200\n",
      " - 0s - loss: 0.5316 - acc: 0.7284\n",
      "Epoch 152/200\n",
      " - 0s - loss: 0.5312 - acc: 0.7305\n",
      "Epoch 153/200\n",
      " - 0s - loss: 0.5311 - acc: 0.7284\n",
      "Epoch 154/200\n",
      " - 0s - loss: 0.5311 - acc: 0.7326\n",
      "Epoch 155/200\n",
      " - 0s - loss: 0.5318 - acc: 0.7263\n",
      "Epoch 156/200\n",
      " - 0s - loss: 0.5321 - acc: 0.7368\n",
      "Epoch 157/200\n",
      " - 0s - loss: 0.5327 - acc: 0.7305\n",
      "Epoch 158/200\n",
      " - 0s - loss: 0.5307 - acc: 0.7305\n",
      "Epoch 159/200\n",
      " - 0s - loss: 0.5331 - acc: 0.7347\n",
      "Epoch 160/200\n",
      " - 0s - loss: 0.5321 - acc: 0.7368\n",
      "Epoch 161/200\n",
      " - 0s - loss: 0.5309 - acc: 0.7389\n",
      "Epoch 162/200\n",
      " - 0s - loss: 0.5314 - acc: 0.7326\n",
      "Epoch 163/200\n",
      " - 0s - loss: 0.5311 - acc: 0.7326\n",
      "Epoch 164/200\n",
      " - 0s - loss: 0.5319 - acc: 0.7326\n",
      "Epoch 165/200\n",
      " - 0s - loss: 0.5334 - acc: 0.7284\n",
      "Epoch 166/200\n",
      " - 0s - loss: 0.5334 - acc: 0.7326\n",
      "Epoch 167/200\n",
      " - 0s - loss: 0.5316 - acc: 0.7411\n",
      "Epoch 168/200\n",
      " - 0s - loss: 0.5315 - acc: 0.7284\n",
      "Epoch 169/200\n",
      " - 0s - loss: 0.5318 - acc: 0.7305\n",
      "Epoch 170/200\n",
      " - 0s - loss: 0.5316 - acc: 0.7347\n",
      "Epoch 171/200\n",
      " - 0s - loss: 0.5307 - acc: 0.7368\n",
      "Epoch 172/200\n",
      " - 0s - loss: 0.5309 - acc: 0.7305\n",
      "Epoch 173/200\n",
      " - 0s - loss: 0.5317 - acc: 0.7347\n",
      "Epoch 174/200\n",
      " - 0s - loss: 0.5311 - acc: 0.7305\n",
      "Epoch 175/200\n",
      " - 0s - loss: 0.5307 - acc: 0.7411\n",
      "Epoch 176/200\n",
      " - 0s - loss: 0.5307 - acc: 0.7347\n",
      "Epoch 177/200\n",
      " - 0s - loss: 0.5313 - acc: 0.7284\n",
      "Epoch 178/200\n",
      " - 0s - loss: 0.5313 - acc: 0.7347\n",
      "Epoch 179/200\n",
      " - 0s - loss: 0.5317 - acc: 0.7326\n",
      "Epoch 180/200\n",
      " - 0s - loss: 0.5309 - acc: 0.7326\n",
      "Epoch 181/200\n",
      " - 0s - loss: 0.5310 - acc: 0.7368\n",
      "Epoch 182/200\n",
      " - 0s - loss: 0.5312 - acc: 0.7284\n",
      "Epoch 183/200\n",
      " - 0s - loss: 0.5305 - acc: 0.7284\n",
      "Epoch 184/200\n",
      " - 0s - loss: 0.5304 - acc: 0.7326\n",
      "Epoch 185/200\n",
      " - 0s - loss: 0.5310 - acc: 0.7326\n",
      "Epoch 186/200\n",
      " - 0s - loss: 0.5306 - acc: 0.7326\n",
      "Epoch 187/200\n",
      " - 0s - loss: 0.5305 - acc: 0.7326\n",
      "Epoch 188/200\n",
      " - 0s - loss: 0.5312 - acc: 0.7305\n",
      "Epoch 189/200\n",
      " - 0s - loss: 0.5313 - acc: 0.7368\n",
      "Epoch 190/200\n",
      " - 0s - loss: 0.5331 - acc: 0.7242\n",
      "Epoch 191/200\n",
      " - 0s - loss: 0.5346 - acc: 0.7347\n",
      "Epoch 192/200\n",
      " - 0s - loss: 0.5312 - acc: 0.7326\n",
      "Epoch 193/200\n",
      " - 0s - loss: 0.5317 - acc: 0.7305\n",
      "Epoch 194/200\n",
      " - 0s - loss: 0.5307 - acc: 0.7284\n",
      "Epoch 195/200\n",
      " - 0s - loss: 0.5304 - acc: 0.7347\n",
      "Epoch 196/200\n",
      " - 0s - loss: 0.5304 - acc: 0.7284\n",
      "Epoch 197/200\n",
      " - 0s - loss: 0.5312 - acc: 0.7368\n",
      "Epoch 198/200\n",
      " - 0s - loss: 0.5303 - acc: 0.7326\n",
      "Epoch 199/200\n",
      " - 0s - loss: 0.5303 - acc: 0.7305\n",
      "Epoch 200/200\n",
      " - 0s - loss: 0.5302 - acc: 0.7326\n"
     ]
    },
    {
     "data": {
      "text/plain": [
       "0.7376304690149025"
      ]
     },
     "execution_count": 43,
     "metadata": {},
     "output_type": "execute_result"
    }
   ],
   "source": [
    "from tensorflow.keras.wrappers.scikit_learn import KerasClassifier\n",
    "\n",
    "# Wrap our Keras model in an estimator compatible with scikit_learn\n",
    "estimator = KerasClassifier(build_fn=create_model, epochs=200, verbose=2)\n",
    "# Now we can use scikit_learn's cross_val_score to evaluate this model identically to the others\n",
    "cv_scores = cross_val_score(estimator,features_tree, all_classes, cv=2)\n",
    "cv_scores.mean()"
   ]
  },
  {
   "cell_type": "code",
   "execution_count": null,
   "metadata": {},
   "outputs": [],
   "source": [
    "from tensorflow.keras.wrappers.scikit_learn import KerasClassifier\n",
    "\n",
    "# Wrap our Keras model in an estimator compatible with scikit_learn\n",
    "estimator = KerasClassifier(build_fn=create_model, epochs=100, verbose=0)\n",
    "# Now we can use scikit_learn's cross_val_score to evaluate this model identically to the others\n",
    "cv_scores = cross_val_score(estimator,features_scaled, all_classes, cv=10)\n",
    "cv_scores.mean()"
   ]
  },
  {
   "cell_type": "code",
   "execution_count": null,
   "metadata": {},
   "outputs": [],
   "source": []
  },
  {
   "cell_type": "code",
   "execution_count": null,
   "metadata": {},
   "outputs": [],
   "source": []
  }
 ],
 "metadata": {
  "kernelspec": {
   "display_name": "Python 3",
   "language": "python",
   "name": "python3"
  },
  "language_info": {
   "codemirror_mode": {
    "name": "ipython",
    "version": 3
   },
   "file_extension": ".py",
   "mimetype": "text/x-python",
   "name": "python",
   "nbconvert_exporter": "python",
   "pygments_lexer": "ipython3",
   "version": "3.6.5"
  }
 },
 "nbformat": 4,
 "nbformat_minor": 2
}
